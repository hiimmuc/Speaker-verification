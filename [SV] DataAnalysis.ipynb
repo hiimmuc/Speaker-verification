{
 "cells": [
  {
   "cell_type": "code",
   "execution_count": 1,
   "id": "3cd21e2d",
   "metadata": {},
   "outputs": [
    {
     "data": {
      "application/javascript": [
       "\n",
       "window.scroll_flag = true\n",
       "window.scroll_exit = false\n",
       "window.scroll_delay = 100\n",
       "\n",
       "$(\".output_scroll\").each(function() {\n",
       "    $(this)[0].scrollTop = $(this)[0].scrollHeight;\n",
       "});\n",
       "\n",
       "function callScrollToBottom() {\n",
       "    setTimeout(scrollToBottom, window.scroll_delay);\n",
       "}\n",
       "\n",
       "function scrollToBottom() {\n",
       "    if (window.scroll_exit) {\n",
       "        return;\n",
       "    }\n",
       "    if (!window.scroll_flag) {\n",
       "        callScrollToBottom();\n",
       "        return;\n",
       "    };\n",
       "    \n",
       "    $(\".output_scroll\").each(function() {\n",
       "        if (!$(this).attr('scroll_checkbox')){\n",
       "            window.scroll_flag = true;\n",
       "            $(this).attr('scroll_checkbox',true);\n",
       "            var div = document.createElement('div');\n",
       "            var checkbox = document.createElement('input');\n",
       "            checkbox.type = \"checkbox\";\n",
       "            checkbox.onclick = function(){window.scroll_flag = checkbox.checked}\n",
       "            checkbox.checked = \"checked\"\n",
       "            div.append(\"Auto-Scroll-To-Bottom: \");\n",
       "            div.append(checkbox);\n",
       "            $(this).parent().before(div);\n",
       "        }\n",
       "        \n",
       "        $(this)[0].scrollTop = $(this)[0].scrollHeight;\n",
       "    });\n",
       "    callScrollToBottom();\n",
       "}\n",
       "scrollToBottom();\n"
      ],
      "text/plain": [
       "<IPython.core.display.Javascript object>"
      ]
     },
     "metadata": {},
     "output_type": "display_data"
    }
   ],
   "source": [
    "%%javascript\n",
    "\n",
    "window.scroll_flag = true\n",
    "window.scroll_exit = false\n",
    "window.scroll_delay = 100\n",
    "\n",
    "$(\".output_scroll\").each(function() {\n",
    "    $(this)[0].scrollTop = $(this)[0].scrollHeight;\n",
    "});\n",
    "\n",
    "function callScrollToBottom() {\n",
    "    setTimeout(scrollToBottom, window.scroll_delay);\n",
    "}\n",
    "\n",
    "function scrollToBottom() {\n",
    "    if (window.scroll_exit) {\n",
    "        return;\n",
    "    }\n",
    "    if (!window.scroll_flag) {\n",
    "        callScrollToBottom();\n",
    "        return;\n",
    "    };\n",
    "    \n",
    "    $(\".output_scroll\").each(function() {\n",
    "        if (!$(this).attr('scroll_checkbox')){\n",
    "            window.scroll_flag = true;\n",
    "            $(this).attr('scroll_checkbox',true);\n",
    "            var div = document.createElement('div');\n",
    "            var checkbox = document.createElement('input');\n",
    "            checkbox.type = \"checkbox\";\n",
    "            checkbox.onclick = function(){window.scroll_flag = checkbox.checked}\n",
    "            checkbox.checked = \"checked\"\n",
    "            div.append(\"Auto-Scroll-To-Bottom: \");\n",
    "            div.append(checkbox);\n",
    "            $(this).parent().before(div);\n",
    "        }\n",
    "        \n",
    "        $(this)[0].scrollTop = $(this)[0].scrollHeight;\n",
    "    });\n",
    "    callScrollToBottom();\n",
    "}\n",
    "scrollToBottom();"
   ]
  },
  {
   "cell_type": "code",
   "execution_count": 3,
   "id": "df342262",
   "metadata": {},
   "outputs": [],
   "source": [
    "import time\n",
    "from pathlib import Path\n",
    "import glob\n",
    "import os\n",
    "import numpy as np\n",
    "from tqdm import tqdm\n",
    "import itertools\n",
    "import csv\n",
    "import matplotlib.pyplot as plt\n",
    "from scipy.io import wavfile\n",
    "import librosa\n",
    "import IPython.display as ipd\n",
    "from IPython.display import clear_output\n",
    "import math\n",
    "\n",
    "import torch\n",
    "import torchaudio\n",
    "import soundfile as sf\n",
    "from torchaudio.transforms import Vad\n",
    "\n",
    "import wave\n",
    "import librosa\n",
    "import contextlib\n",
    "\n",
    "import random\n",
    "import shutil\n",
    "from tqdm import tqdm\n",
    "import subprocess\n",
    "from pydub import AudioSegment\n",
    "from scipy.io import wavfile"
   ]
  },
  {
   "cell_type": "code",
   "execution_count": 4,
   "id": "3fd27c3e",
   "metadata": {},
   "outputs": [],
   "source": [
    "import matplotlib.pyplot as plt\n",
    "%matplotlib inline\n",
    "\n",
    "SMALL_SIZE = 8\n",
    "MEDIUM_SIZE = 10\n",
    "BIGGER_SIZE = 12\n",
    "\n",
    "plt.rc('font', size=MEDIUM_SIZE)          # controls default text sizes\n",
    "plt.rc('axes', titlesize=MEDIUM_SIZE)     # fontsize of the axes title\n",
    "plt.rc('axes', labelsize=MEDIUM_SIZE)    # fontsize of the x and y labels\n",
    "plt.rc('xtick', labelsize=MEDIUM_SIZE)    # fontsize of the tick labels\n",
    "plt.rc('ytick', labelsize=MEDIUM_SIZE)    # fontsize of the tick labels\n",
    "plt.rc('legend', fontsize=MEDIUM_SIZE)    # legend fontsize\n",
    "plt.rc('figure', titlesize=BIGGER_SIZE)  # fontsize of the figure title\n",
    "plt.rc('grid', linestyle=\"-\", color='black')"
   ]
  },
  {
   "cell_type": "code",
   "execution_count": 5,
   "id": "ffa77199",
   "metadata": {},
   "outputs": [],
   "source": [
    "from utils import *\n",
    "from processing import *"
   ]
  },
  {
   "cell_type": "markdown",
   "id": "d10e33d5",
   "metadata": {},
   "source": [
    "## Audio utils"
   ]
  },
  {
   "cell_type": "code",
   "execution_count": 6,
   "id": "e4a290e1",
   "metadata": {},
   "outputs": [],
   "source": [
    "def plot_spec(filepath):\n",
    "    samplingFrequency, signalData = wavfile.read(filepath)\n",
    "    \n",
    "    # Plot the signal read from wav file\n",
    "    if len(signalData.shape) == 1:\n",
    "        # single channel\n",
    "        plt.figure(figsize=(12,8))\n",
    "#         plt.grid(visible=True, axis='both')\n",
    "        plt.subplot(211)\n",
    "\n",
    "        plt.title('Spectrogram of a wav file')\n",
    "\n",
    "        plt.plot(signalData)\n",
    "        plt.xlabel('Sample')\n",
    "        plt.ylabel('Amplitude')\n",
    "\n",
    "        plt.subplot(212)\n",
    "        plt.specgram(signalData,Fs=samplingFrequency,NFFT=512)\n",
    "        plt.xlabel('Time')\n",
    "        plt.ylabel('Frequency')\n",
    "    else:\n",
    "        signal_transpose = signalData.T\n",
    "        for i, signal in enumerate(signal_transpose):\n",
    "            print(f\"Channel {i + 1}\")\n",
    "            plt.figure()\n",
    "            plt.subplot(211)\n",
    "            plt.title('Spectrogram of a wav file')\n",
    "\n",
    "            plt.plot(signal.T)\n",
    "            plt.xlabel('Sample')\n",
    "            plt.ylabel('Amplitude')\n",
    "\n",
    "            plt.subplot(212)\n",
    "            plt.specgram(signal.T,Fs=samplingFrequency,NFFT=512)\n",
    "            plt.xlabel('Time')\n",
    "            plt.ylabel('Frequency')\n",
    "\n",
    "    plt.show()\n",
    "    \n",
    "def plot_duo(path1, path2):\n",
    "    samplingFrequency1, signalData1 = wavfile.read(path1)\n",
    "    samplingFrequency2, signalData2 = wavfile.read(path2)\n",
    "    # single channel\n",
    "#     plt.figure(figsize=(20,8))\n",
    "    \n",
    "    fig, axs = plt.subplots(2, 2, figsize=(12, 4))\n",
    "    axs[0, 0].plot(signalData1)\n",
    "    axs[0, 0].set_title('Ref')\n",
    "    axs[0, 0].set(xlabel='Sample', ylabel='Amplitude')\n",
    "    \n",
    "    axs[0, 1].specgram(signalData1,Fs=samplingFrequency1,NFFT=512)\n",
    "    axs[0, 1].set(xlabel='Time', ylabel='Frequency')\n",
    "    \n",
    "\n",
    "    axs[1, 0].plot(signalData2)\n",
    "    axs[1, 0].set_title('Com')\n",
    "    axs[1, 0].set(xlabel='Sample', ylabel='Amplitude')\n",
    "    \n",
    "    axs[1, 1].specgram(signalData2,Fs=samplingFrequency2,NFFT=512)\n",
    "    axs[1, 1].set(xlabel='Time', ylabel='Frequency')\n",
    "    \n",
    "    plt.tight_layout()\n",
    "    plt.show()\n",
    "\n",
    "def get_duration_file(fn_audio):\n",
    "    with contextlib.closing(wave.open(str(fn_audio),'r')) as f:\n",
    "        frames = f.getnframes()\n",
    "        rate = f.getframerate()\n",
    "        duration = frames / float(rate)\n",
    "    return duration\n",
    "\n",
    "def get_audio_overview(fn_audio):\n",
    "    ob =  sf.SoundFile(fn_audio)\n",
    "    return ob.subtype, ob.samplerate, ob.channels\n",
    "\n",
    "\n",
    "def get_amplitute_file(path):\n",
    "    sr, data = wavfile.read(path)\n",
    "#     bit_depth = int(get_infor_file(path)[0].split('_')[-1])\n",
    "    bit_depth = 16\n",
    "    db = 20 * np.log10(max(abs(data))/(2**(bit_depth - 1) - 1))\n",
    "    return sr, min(data), max(data), db\n",
    "\n",
    "def get_duration_folder(folder):\n",
    "    total_length = 0\n",
    "    for audio in glob.glob(f\"{folder}/*.wav\"):\n",
    "        try:\n",
    "            total_length += get_duration_file(audio)\n",
    "        except:\n",
    "            print(\"error in \",audio)\n",
    "    return total_length\n",
    "\n",
    "def get_size_file(fname):\n",
    "    return Path(fname).stat().st_size\n",
    "\n",
    "def get_size_folder(folder):\n",
    "    return sum([float(get_size_file(f)) for f in glob.glob(f\"{folder}/*\")])\n",
    "\n",
    "def get_audio_stats(filename):\n",
    "    cmd = ['ffmpeg', '-i', filename, '-map', '0:a', '-af', 'astats', '-f', 'null', '-']\n",
    "#     cmd = ['ffprobe', filename]\n",
    "    out = subprocess.run(cmd, stdout=subprocess.PIPE, stderr=subprocess.PIPE).stderr\n",
    "    output_lines = [line.strip() for line in out.decode('utf-8').split('\\n')]\n",
    "    return output_lines\n"
   ]
  },
  {
   "cell_type": "code",
   "execution_count": 7,
   "id": "888409b4",
   "metadata": {},
   "outputs": [],
   "source": [
    "def stream_and_plot_audio(path, plot=False):\n",
    "    audio = ipd.Audio(path, autoplay=True) \n",
    "    ipd.display(audio)\n",
    "    if plot:\n",
    "        plot_spec(path)\n",
    "\n",
    "def stream_and_plot_in_class(folder, plot=False, delay=0.5):\n",
    "    audio_in_folder = glob.glob(f'{folder}/*.wav')\n",
    "    for i, f in enumerate(audio_in_folder):\n",
    "        path  = str(Path(f))\n",
    "        print(f\"[{i + 1}/{len(audio_in_folder)}] {path}\", end=' ')\n",
    "\n",
    "        stream_and_plot_audio(path, plot=plot)\n",
    "\n",
    "        duration = librosa.get_duration(filename=path)\n",
    "\n",
    "        time.sleep(duration + delay)\n",
    "        \n",
    "def stream_and_plot_in_root(root, plot=False, start_index=0):\n",
    "    folders = Path(root).glob('*')\n",
    "#     nfiles = [len(os.listdir(str(x))) for x in folders]\n",
    "    \n",
    "    for index, folder in enumerate(list(folders)[start_index:]):\n",
    "        print('id:', index + start_index, folder.name)\n",
    "        \n",
    "        stream_and_plot_in_class(str(folder), plot=plot)\n",
    "        time.sleep(1.0)\n",
    "        clear_output(wait=True)\n",
    "        \n",
    "def compare2files(file1, file2, plot=False, stream=False):\n",
    "    if plot:\n",
    "        plot_duo(file1, file2)\n",
    "        \n",
    "    if stream:\n",
    "        stream_and_plot_audio(file1, plot=False)\n",
    "        duration = librosa.get_duration(filename=file1)\n",
    "        time.sleep(duration + 0.5)\n",
    "\n",
    "        stream_and_plot_audio(file2, plot=False)\n",
    "        duration = librosa.get_duration(filename=file2)\n",
    "        time.sleep(duration + 0.5)"
   ]
  },
  {
   "cell_type": "code",
   "execution_count": 10,
   "id": "6537d33e",
   "metadata": {},
   "outputs": [],
   "source": [
    "import noisereduce as nr\n",
    "# load data\n",
    "def remove_noise(path):\n",
    "    rate, data = wavfile.read(path)\n",
    "    # perform noise reduction\n",
    "    reduced_noise = nr.reduce_noise(y=data, sr=rate, n_fft=512, prop_decrease=0.99)\n",
    "    filename = f\"{path.replace('.wav', '')}_rm_noise.wav\"\n",
    "    wavfile.write(filename, rate, reduced_noise)\n",
    "    return True\n",
    "\n",
    "def change_volume(path=None, dB=6, overwrite=True):\n",
    "    segment = AudioSegment.from_file(path)\n",
    "    segment += dB\n",
    "    if overwrite:\n",
    "        path = path\n",
    "    else:\n",
    "        path = path.replace('.wav', '') + f'_{dB}' +'.wav'\n",
    "    segment.export(path, format='wav')\n",
    "    print(f'Export to {path}')"
   ]
  },
  {
   "cell_type": "markdown",
   "id": "2f2c0817",
   "metadata": {},
   "source": [
    "## Stream and visualize audio\n"
   ]
  },
  {
   "cell_type": "markdown",
   "id": "f21d6c16",
   "metadata": {},
   "source": [
    "#### File"
   ]
  },
  {
   "cell_type": "code",
   "execution_count": null,
   "id": "20139d9b",
   "metadata": {
    "scrolled": true
   },
   "outputs": [],
   "source": [
    "path = f\"log_service/audio_v2/346165056/346165056-20220310-173805_20220310_103846_com_0.wav\"\n",
    "stream_and_plot_audio(path, plot=True)\n",
    "# !ffprobe \"dataset/spoof/2835449000/2835449000_23_zoneB_rm_noise.wav\""
   ]
  },
  {
   "cell_type": "code",
   "execution_count": null,
   "id": "203d45e8",
   "metadata": {
    "jupyter": {
     "outputs_hidden": true
    }
   },
   "outputs": [],
   "source": [
    "com = f\"log_service/audio/20220208_101958_com_vad_1.wav\"\n",
    "\n",
    "ref = f\"log_service/audio/20220208_101947_ref_vad_0.wav\"\n",
    "\n",
    "compare2files(ref, com, plot=True, stream=True)"
   ]
  },
  {
   "cell_type": "markdown",
   "id": "0e296cd1",
   "metadata": {},
   "source": [
    "#### Class"
   ]
  },
  {
   "cell_type": "code",
   "execution_count": null,
   "id": "6b755521",
   "metadata": {},
   "outputs": [],
   "source": [
    "with open(\"dataset/test_callbot_raw/infor.csv\", 'w') as wf:\n",
    "    for i, folder in enumerate(Path(\"dataset/test_callbot_raw/namdp5/\").glob('*')):\n",
    "#         wf.write(f\"{i},{folder.name},{len(os.listdir(str(folder)))}\\n\")\n",
    "        pass"
   ]
  },
  {
   "cell_type": "code",
   "execution_count": null,
   "id": "aeb37129",
   "metadata": {
    "scrolled": true
   },
   "outputs": [],
   "source": [
    "stream_and_plot_in_class(\"log_service/audio_v2/912582757/\", plot=False)"
   ]
  },
  {
   "cell_type": "markdown",
   "id": "3b44348c",
   "metadata": {},
   "source": [
    "#### Root"
   ]
  },
  {
   "cell_type": "code",
   "execution_count": null,
   "id": "61125728",
   "metadata": {
    "jupyter": {
     "outputs_hidden": true
    }
   },
   "outputs": [],
   "source": [
    "stream_and_plot_in_root(\"dataset/test_callbot_raw/namdp5/\", start_index=-2)"
   ]
  },
  {
   "cell_type": "markdown",
   "id": "c33abc80",
   "metadata": {},
   "source": [
    "#### stats of audio"
   ]
  },
  {
   "cell_type": "code",
   "execution_count": null,
   "id": "2adda0c8",
   "metadata": {
    "jupyter": {
     "outputs_hidden": true
    }
   },
   "outputs": [],
   "source": [
    "!ffmpeg -i \"dataset/test_callbot_raw/namdp5/349238241/349238241-20220204-101127-in_1.wav\" -map 0:a -af astats -f null -"
   ]
  },
  {
   "cell_type": "markdown",
   "id": "6782a5d8",
   "metadata": {},
   "source": [
    "## Perform vad on long file(>10s of duration)"
   ]
  },
  {
   "cell_type": "code",
   "execution_count": null,
   "id": "5264fa98",
   "metadata": {
    "jupyter": {
     "outputs_hidden": true
    }
   },
   "outputs": [],
   "source": [
    "path = f\"log_service/audio/20220208_101947_ref.wav\"\n",
    "write = False\n",
    "segments = vad_tool.VAD(win_length=300, frame_duration=30).detect(path, write=write, show=True)\n",
    "print(len(segments))"
   ]
  },
  {
   "cell_type": "markdown",
   "id": "1aa0a204",
   "metadata": {},
   "source": [
    "# Visualize by graph dataset, plot graph"
   ]
  },
  {
   "cell_type": "code",
   "execution_count": null,
   "id": "c36d4477",
   "metadata": {},
   "outputs": [],
   "source": [
    "origin = \"dataset/train\"\n",
    "filenames = glob.glob(f\"{origin}/*\")"
   ]
  },
  {
   "cell_type": "markdown",
   "id": "41be3b31",
   "metadata": {},
   "source": [
    "### number of files"
   ]
  },
  {
   "cell_type": "code",
   "execution_count": null,
   "id": "f33fd1e6",
   "metadata": {},
   "outputs": [],
   "source": [
    "# so luong files moi nguoi\n",
    "no_of_files = []\n",
    "for f in tqdm(filenames):\n",
    "    if len(os.listdir(f)) == 0:\n",
    "        print(f)\n",
    "    no_of_files.append(len(os.listdir(f)))\n",
    "plt.figure(figsize=(24, 8))\n",
    "plt.bar(filenames, no_of_files), plt.ylabel('number of files'), plt.xticks([])\n",
    "plt.tight_layout()"
   ]
  },
  {
   "cell_type": "code",
   "execution_count": null,
   "id": "9f07dbf5",
   "metadata": {},
   "outputs": [],
   "source": [
    "filenames[np.argmax(no_of_files)], filenames[np.argmin(no_of_files)], sum(no_of_files), max(no_of_files), min(no_of_files)"
   ]
  },
  {
   "cell_type": "markdown",
   "id": "2954b39a",
   "metadata": {},
   "source": [
    "### Duration"
   ]
  },
  {
   "cell_type": "code",
   "execution_count": null,
   "id": "487bac9e",
   "metadata": {},
   "outputs": [],
   "source": [
    "# duration\n",
    "durations = []\n",
    "for fn in tqdm(filenames):\n",
    "    length = get_duration_folder(fn)\n",
    "    durations.append(length)\n",
    "plt.figure(figsize=(24, 8))\n",
    "plt.bar(filenames, durations), plt.ylabel('durations'), plt.xticks([]), plt.tight_layout()\n",
    "plt.show()"
   ]
  },
  {
   "cell_type": "code",
   "execution_count": null,
   "id": "8b02ec6c",
   "metadata": {},
   "outputs": [],
   "source": [
    "np.mean(durations), np.argmax(durations), sum(durations), max(durations), min(durations)"
   ]
  },
  {
   "cell_type": "markdown",
   "id": "31d5e0c8",
   "metadata": {},
   "source": [
    "### average duration "
   ]
  },
  {
   "cell_type": "code",
   "execution_count": null,
   "id": "661f98f1",
   "metadata": {},
   "outputs": [],
   "source": [
    "# mat do thoi gian / 1 audio tren moi nguoi\n",
    "import numpy as np\n",
    "no_of_files = np.array(no_of_files)\n",
    "durations = np.array(durations)\n",
    "avg_durations = np.divide(durations, no_of_files)\n",
    "plt.figure(figsize=(24, 8))\n",
    "plt.bar(filenames, avg_durations), plt.ylabel('avg_durations'), plt.xticks([]), plt.tight_layout()\n",
    "plt.show()"
   ]
  },
  {
   "cell_type": "code",
   "execution_count": null,
   "id": "477581b6",
   "metadata": {
    "scrolled": true
   },
   "outputs": [],
   "source": [
    "avg_durations.mean(), np.argmax(avg_durations), max(avg_durations), min(avg_durations)"
   ]
  },
  {
   "cell_type": "code",
   "execution_count": null,
   "id": "33e2f53e",
   "metadata": {},
   "outputs": [],
   "source": [
    "len(avg_durations[(avg_durations >= 1.5).nonzero()])"
   ]
  },
  {
   "cell_type": "code",
   "execution_count": null,
   "id": "59ef159b",
   "metadata": {},
   "outputs": [],
   "source": [
    "#  index: 0'Duration', 1'Size(MB)', 2'Min level', 3'Max level', \n",
    "#         4'Min difference', 5'Max difference', 6'Mean difference', 7'RMS difference', \n",
    "#         8'Peak level dB', 9'RMS level dB', 10'RMS peak dB', 11'RMS trough dB', \n",
    "#         12'Crest factor', 13'Flat factor', 14'Peak count',\n",
    "#         15'Noise floor dB', 16'Noise floor count', 17'Dynamic range', \n",
    "#         18'Zero crossings', 19'Zero crossings rate', 20'Error rate',\n",
    "\n",
    "audio_full_infor = {}\n",
    "detail_dir = Path('dataset/train_callbot/details/')\n",
    "csv_s = detail_dir.glob('*.csv')\n",
    "\n",
    "for f in tqdm(csv_s):\n",
    "    audio_full_infor[f.name.replace('.csv', '')] = []\n",
    "    \n",
    "    with open(f, 'r', newline='') as rf:\n",
    "        spamreader = csv.reader(rf, delimiter=',')\n",
    "        next(spamreader, None)\n",
    "        for row in spamreader:\n",
    "            row_n = []\n",
    "            for e in row:\n",
    "                try:\n",
    "                    row_n.append(float(e.strip()))\n",
    "                except:\n",
    "                    pass\n",
    "            audio_full_infor[f.name.replace('.csv', '')].append(np.asanyarray(row_n))\n",
    "            \n",
    "    audio_full_infor[f.name.replace('.csv', '')] = np.asanyarray(audio_full_infor[f.name.replace('.csv', '')])\n",
    "            \n",
    "list(audio_full_infor.items())[:10]"
   ]
  },
  {
   "cell_type": "markdown",
   "id": "d72ec1a4",
   "metadata": {},
   "source": [
    "index: <br/>\n",
    "0'Duration', 1'Size(MB)', 2'Min level', 3'Max level', <br/>\n",
    "4'Min difference', 5'Max difference', 6'Mean difference', 7'RMS difference', <br/>\n",
    "8'Peak level dB', 9'RMS level dB', 10'RMS peak dB', 11'RMS trough dB', <br/>\n",
    "12'Crest factor', 13'Flat factor', 14'Peak count', <br/>\n",
    "15'Noise floor dB', 16'Noise floor count', 17'Dynamic range', <br/>\n",
    "18'Zero crossings', 19'Zero crossings rate', 20'Error rate', <br/>"
   ]
  },
  {
   "cell_type": "code",
   "execution_count": null,
   "id": "8562536b",
   "metadata": {},
   "outputs": [],
   "source": [
    "# sum up informations\n",
    "categories = ['Avg_duration', 'Min_duration', 'Max_duration', \n",
    "              'Avg_peakdB', 'Min_peakdB', 'Max_peakdB',\n",
    "              'Avg_noisedB', 'Min_noisedB', 'Max_noisedB',\n",
    "              '#valid files', '%valid']\n",
    "\n",
    "# writefile = 'dataset/details_callbot.csv'\n",
    "with open(writefile, 'w', newline='') as wf:\n",
    "    spamwriter = csv.writer(wf, delimiter=',')\n",
    "    spamwriter.writerow(categories)\n",
    "    \n",
    "    for k, v in tqdm(audio_full_infor.items()):\n",
    "        avg_dur, min_dur, max_dur = np.mean(v[:,0]), min(v[:,0]), max(v[:,0])\n",
    "        avg_db, min_db, max_db = np.mean(v[:,8]), min(v[:,8]), max(v[:,8])\n",
    "        avg_noisedb, min_noisedb, max_noisedb =  np.mean(v[:,15]), min(v[:,15]), max(v[:,15])\n",
    "        # error rate add here#\n",
    "        f_invalid = read_blacklist(id=k,\n",
    "                                 duration_limit=1.0, \n",
    "                                 dB_limit=-16, \n",
    "                                 error_limit=0, \n",
    "                                 noise_limit=-10, \n",
    "                                 details_dir=\"dataset/train_callbot/details/\" )\n",
    "        n_valid = len(v) - len(f_invalid) if f_invalid else len(v)\n",
    "        p_valid = n_valid / len(v)\n",
    "        \n",
    "        row =  [avg_dur, min_dur, max_dur,\n",
    "               avg_db, min_db, max_db,\n",
    "               avg_noisedb, min_noisedb, max_noisedb,\n",
    "               n_valid, p_valid]\n",
    "#         spamwriter.writerow(row)"
   ]
  },
  {
   "cell_type": "markdown",
   "id": "8171f83e",
   "metadata": {},
   "source": [
    "## Filtering DATASET"
   ]
  },
  {
   "cell_type": "markdown",
   "id": "05672578",
   "metadata": {},
   "source": [
    "Check the inequality of dataset and print out details, return number of files greater ans lower than threshold(35 files)"
   ]
  },
  {
   "cell_type": "code",
   "execution_count": null,
   "id": "976a6b48",
   "metadata": {
    "jupyter": {
     "outputs_hidden": true
    }
   },
   "outputs": [],
   "source": [
    "with open(\"Imposter_v2.txt\", 'r') as rf:\n",
    "    lines = [line.strip().replace('\\n', '') for line in rf.readlines()]\n",
    "\n",
    "invalid_class = list(''.join(x.split(':')[1:]).strip() for x in filter(lambda x: True if ':' in x else False, lines))\n",
    "invalid_files = list(''.join(x.split('-')[1:]).strip() for x in filter(lambda x: True if '-' in x else False, lines))\n",
    "# len(invalid_files), len(invalid_class), invalid_class[-1], glob.glob(\"dataset/train/*\").index(invalid_class[-1])\n",
    "\n",
    "invalid_details = {}\n",
    "for line in tqdm(lines):\n",
    "    if ':' in line:\n",
    "        k = ''.join(line.split(':')[1:]).strip()\n",
    "        if k not in invalid_details:\n",
    "            invalid_details[k] = {}\n",
    "    elif '.wav' in line:\n",
    "        fp = ''.join(line.split(' - ')[1:]).strip()\n",
    "        n = line.split('-')[0].strip().replace('[', '').replace(']', '').split('/')\n",
    "        rate = float(n[0])/float(n[1])\n",
    "        \n",
    "        k = list(invalid_details.keys())[-1]\n",
    "        \n",
    "        invalid_details[k][fp] = rate\n",
    "\n",
    "list(invalid_details.items())[:10]\n",
    "# invalid_cla                                                                                                                                     ss"
   ]
  },
  {
   "cell_type": "markdown",
   "id": "b98daeab",
   "metadata": {},
   "source": [
    "### Train val generate simulation"
   ]
  },
  {
   "cell_type": "code",
   "execution_count": null,
   "id": "721e3347",
   "metadata": {},
   "outputs": [],
   "source": [
    "def generate_lists(raw_dataset, details_dir, num_spks, split_ratio,\n",
    "                   duration_limit=1.0,\n",
    "                   dB_limit=-10,\n",
    "                   error_limit=0.5,\n",
    "                   noise_limit=-16, \n",
    "                   lower_num=10, upper_num = 40,\n",
    "                  gen_files=False):\n",
    "    \"\"\"\n",
    "    Generate train test lists for zalo data\n",
    "    \"\"\"\n",
    "    valid_spks = []\n",
    "    invalid_spks = []\n",
    "    \n",
    "    root = Path(raw_dataset)\n",
    "    classpaths = [d for d in root.iterdir() if d.is_dir()]\n",
    "    classpaths.sort()\n",
    "    \n",
    "    if 0 < num_spks < len(classpaths) + 1:\n",
    "        classpaths = classpaths[:num_spks]\n",
    "    elif num_spks == -1:\n",
    "        pass\n",
    "    else:\n",
    "        raise \"Invalid number of speakers\"\n",
    "\n",
    "    print('Generate dataset metadata files, total:', len(classpaths))\n",
    "    \n",
    "    train_filepaths_list = []\n",
    "    val_filepaths_list = []\n",
    "    \n",
    "    if gen_files:\n",
    "        train_writer = open(Path(root.parent, 'train_dump.txt'), 'w')\n",
    "        val_writer = open(Path(root.parent, 'val_dump_v3.txt'), 'w')    \n",
    "        \n",
    "    for classpath in tqdm(list(classpaths)[:], desc=\"Processing:...\"):\n",
    "        filepaths = list(classpath.glob('*.wav'))\n",
    "        # filtering dataset\n",
    "        ## check duration, volumn\n",
    "        blist = read_blacklist(str(Path(classpath).name), \n",
    "                               duration_limit=duration_limit, \n",
    "                               dB_limit=dB_limit, \n",
    "                               error_limit=error_limit, \n",
    "                               noise_limit=noise_limit,\n",
    "                               details_dir=details_dir)\n",
    "\n",
    "        if blist is not None:\n",
    "            filepaths = list(set(filepaths).difference(set(blist)))\n",
    "\n",
    "        ## check duration, sr\n",
    "        filepaths = check_valid_audio(filepaths, 1.0, 8000)\n",
    "\n",
    "        ## checknumber of files\n",
    "        if lower_num:\n",
    "            if len(filepaths) < lower_num:\n",
    "                continue\n",
    "                \n",
    "        if upper_num:\n",
    "            if len(filepaths) >= upper_num:\n",
    "                filepaths = filepaths[:upper_num]\n",
    "                \n",
    "        if len(filepaths) == 0:\n",
    "            continue\n",
    "                    \n",
    "        valid_spks.append(Path(classpath).name)\n",
    "        \n",
    "        random.shuffle(filepaths)\n",
    "        \n",
    "        \n",
    "        # val\n",
    "        val_num = 3  # 3 utterances per speaker for val\n",
    "\n",
    "        if split_ratio > 0:\n",
    "            val_num = int(split_ratio * len(filepaths))\n",
    "\n",
    "        val_filepaths = random.sample(filepaths, val_num)\n",
    "        \n",
    "        train_filepaths = filepaths if split_ratio == -1 else list(set(filepaths) - set(val_filepaths))\n",
    "        \n",
    "        # write train file\n",
    "        if gen_files:\n",
    "            for train_filepath in train_filepaths:\n",
    "                label = str(train_filepath.parent.stem.split('-')[0])\n",
    "                train_writer.write(label + ' ' + str(train_filepath) + '\\n')\n",
    "\n",
    "        val_filepaths_list.append(val_filepaths)\n",
    "        train_filepaths_list.extend(train_filepaths)\n",
    "        \n",
    "    # gen val \n",
    "    val_pairs = []\n",
    "    for val_filepaths in val_filepaths_list:\n",
    "        for i in range(len(val_filepaths) - 1):\n",
    "            for j in range(i + 1, len(val_filepaths)):\n",
    "                label = '1'\n",
    "                positive_pair = label + ' ' + str(val_filepaths[i]) + ' ' + str(val_filepaths[j]) + '\\n'\n",
    "                val_pairs.append(positive_pair)\n",
    "    \n",
    "                label = '0'\n",
    "                while True:\n",
    "                    x = random.randint(0, len(val_filepaths_list) - 1)\n",
    "                    if not val_filepaths_list[x]:\n",
    "                        continue\n",
    "                    if val_filepaths_list[x][0].parent.stem != val_filepaths[i].parent.stem:\n",
    "                        break\n",
    "                        \n",
    "                y = random.randint(0, len(val_filepaths_list[x]) - 1)\n",
    "                negative_pair = label + ' ' + str(val_filepaths[i]) + ' ' + str(val_filepaths_list[x][y]) + '\\n'\n",
    "                val_pairs.append(negative_pair)\n",
    "                \n",
    "                if gen_files:\n",
    "                    val_writer.write(positive_pair)\n",
    "                    val_writer.write(negative_pair)\n",
    "                \n",
    "    if gen_files:\n",
    "        val_writer.close()\n",
    "        train_writer.close()\n",
    "        \n",
    "\n",
    "    print(\"Valid speakers:\", len(valid_spks))\n",
    "    print(\"Valid audio files:\", len(train_filepaths_list))\n",
    "    print(\"Validation pairs:\", len(val_pairs))\n",
    "\n",
    "    return valid_spks, invalid_spks"
   ]
  },
  {
   "cell_type": "code",
   "execution_count": null,
   "id": "ca603056",
   "metadata": {},
   "outputs": [],
   "source": [
    "valid_spks, invalid_spks = generate_lists(raw_dataset='dataset/test_callbot_raw/namdp5/', \n",
    "                                          details_dir='dataset/details/test_cb_raw/', \n",
    "                                          num_spks=-1, split_ratio=1.0, \n",
    "                                          duration_limit=1.0,\n",
    "                                          dB_limit=-20,\n",
    "                                          error_limit=0.5,\n",
    "                                          noise_limit=-0,\n",
    "                                          lower_num=None, upper_num = None,\n",
    "                                          gen_files = False)"
   ]
  },
  {
   "cell_type": "markdown",
   "id": "0e0e2fd6",
   "metadata": {},
   "source": [
    "#### Write public and private test"
   ]
  },
  {
   "cell_type": "code",
   "execution_count": null,
   "id": "d198aa9d",
   "metadata": {},
   "outputs": [],
   "source": [
    "source  = 'dataset/test_callbot/private'\n",
    "details_dir='dataset/details/test_cb_private/'\n",
    "\n",
    "# import itertools    \n",
    "# def all_pairs(lst):\n",
    "#     return list(itertools.combinations(lst, 2))\n",
    "\n",
    "# folders = Path(source).glob('*/')\n",
    "# data = []\n",
    "# for folder in folders:\n",
    "#     f_lst = folder.glob('*.wav')\n",
    "#     b_lst = read_blacklist(str(folder.name), \n",
    "#                            duration_limit=1.0, \n",
    "#                            dB_limit=-10, \n",
    "#                            error_limit=0.5, \n",
    "#                            noise_limit=-16,\n",
    "#                            details_dir=details_dir)\n",
    "#     if b_lst:\n",
    "#         audio_lst = list(set(f_lst).difference(set(b_lst)))\n",
    "#     else:\n",
    "#         audio_lst = f_lst\n",
    "#     data.extend([f\"{folder.name} {path}\" for path in audio_lst])\n",
    "\n",
    "# pairs = all_pairs(data)\n",
    "# lines_truth = []\n",
    "lines_test = []\n",
    "\n",
    "with open(\"dataset/test_callbot/valid_speaker/private_test_cb_truth.txt\", 'r') as rf:\n",
    "    pairs = [x.replace('\\n', '') for x in rf.readlines()]\n",
    "\n",
    "for pair in pairs:\n",
    "    lable, path1, path2 = pair.split(' ')\n",
    "    lines_test.append(f\"{path1},{path2}\\n\")\n",
    "    \n",
    "\n",
    "    \n",
    "with open(Path('dataset/test_callbot/valid_speaker/', 'private_test_cb.txt'), 'w') as wf:\n",
    "    wf.write(f\"audio_1,audio_2\\n\")\n",
    "    wf.writelines(lines_test)\n",
    "print(\"Done\")"
   ]
  },
  {
   "cell_type": "code",
   "execution_count": null,
   "id": "11632084",
   "metadata": {},
   "outputs": [],
   "source": [
    "with open(\"dataset/test_callbot/valid_speaker/private_test_cb_truth.txt\", 'r') as rf:\n",
    "    pairs = [x.replace('\\n', '') for x in rf.readlines()]\n",
    "len(pairs)"
   ]
  },
  {
   "cell_type": "markdown",
   "id": "9c44be1d",
   "metadata": {},
   "source": [
    "## Draft"
   ]
  },
  {
   "cell_type": "markdown",
   "id": "b385e8db",
   "metadata": {},
   "source": [
    "#### Export test file from folder"
   ]
  },
  {
   "cell_type": "code",
   "execution_count": null,
   "id": "a286e77d",
   "metadata": {},
   "outputs": [],
   "source": [
    "os.makedirs(\"log_service/ref_audio_v2/audio\", exist_ok= True)\n",
    "spk_dirs = Path('log_service/ref_audio_v2/wavs-2022-03-10/').glob('*')\n",
    "for spk in spk_dirs:\n",
    "    os.makedirs('log_service/ref_audio_v2/audio/' + str(spk).split('/')[-1], exist_ok=True)\n",
    "    for audio in glob.glob(f\"{spk}/*.wav\"):\n",
    "#         print(audio, str('/'.join(audio.split('/')[:2]+['audio']+[audio.split('/')[-2], 'com_'+ audio.split('/')[-1]])))\n",
    "        os.rename(audio, str('/'.join(audio.split('/')[:2]+['audio']+[audio.split('/')[-2], 'com_' + audio.split('/')[-1]])))\n",
    "#         print(audio)    \n",
    "        pass"
   ]
  },
  {
   "cell_type": "code",
   "execution_count": 48,
   "id": "57b40bf9",
   "metadata": {},
   "outputs": [
    {
     "name": "stderr",
     "output_type": "stream",
     "text": [
      "100%|██████████| 16/16 [00:09<00:00,  1.70it/s]"
     ]
    },
    {
     "name": "stdout",
     "output_type": "stream",
     "text": [
      "Done\n"
     ]
    },
    {
     "name": "stderr",
     "output_type": "stream",
     "text": [
      "\n"
     ]
    }
   ],
   "source": [
    "import itertools\n",
    "def all_pairs(lst):\n",
    "    return list(itertools.combinations(lst, 2))\n",
    "\n",
    "ref_case = ['norm', 'auth','all', 'none']\n",
    "com_case = ['norm', 'auth','all', 'none']\n",
    "a =[(x,y) for x in ref_case for y in com_case]\n",
    "\n",
    "for case in tqdm(a):\n",
    "    if case[0] == 'all':\n",
    "        ref_set = '*'\n",
    "    if case[1] == 'all':\n",
    "        com_set = '*'\n",
    "    if case[0] == 'none':\n",
    "        ref_set = ''\n",
    "    if case[1] == 'none':\n",
    "        com_set = ''\n",
    "    if case[0] in ['norm', 'auth']:\n",
    "        ref_set = case[0] + '_ref'\n",
    "        \n",
    "    if case[1] in ['norm', 'auth']:\n",
    "        com_set = case[1] + '_com'\n",
    "    \n",
    "    list_test_ref = glob.glob(f'log_service/audio_bu/ref_bu/{ref_set}/*/*.wav')\n",
    "    list_test_com = glob.glob(f'log_service/audio_bu/wavs-2022-03-16/{com_set}/*/*.wav')\n",
    "\n",
    "    list_test = list(set(list_test_ref+list_test_com))\n",
    "    pairs = all_pairs(list_test)\n",
    "\n",
    "    lines = []\n",
    "    lines_truth = []\n",
    "    counts_label = [0, 0]\n",
    "    for pair in pairs:\n",
    "        label1 = os.path.split(pair[0])[-1].split('.')[0].split('-')[0].replace('com_', '')\n",
    "        label2 = os.path.split(pair[1])[-1].split('.')[0].split('-')[0].replace('com_', '')\n",
    "\n",
    "        lines_truth.append(f\"{int(label2==label1)} {pair[0]} {pair[1]}\\n\")    \n",
    "        lines.append(f\"{pair[0]},{pair[1]}\\n\")\n",
    "\n",
    "        counts_label[0] += int(label2!=label1)\n",
    "        counts_label[1] += int(label2==label1)\n",
    "\n",
    "    with open(f'log_service/audio_bu/{case[0]}_{case[1]}_truth.txt' , 'w') as wf:\n",
    "        wf.writelines(lines_truth)\n",
    "    with open(f'log_service/audio_bu/{case[0]}_{case[1]}.txt' , 'w') as wf:\n",
    "        wf.write(\"audio1,audio2\\n\")\n",
    "        wf.writelines(lines)\n",
    "\n",
    "print('Done')\n",
    "#     counts_label"
   ]
  },
  {
   "cell_type": "code",
   "execution_count": 26,
   "id": "deb08670",
   "metadata": {},
   "outputs": [
    {
     "name": "stderr",
     "output_type": "stream",
     "text": [
      "100%|██████████| 374/374 [00:11<00:00, 32.74it/s]\n"
     ]
    }
   ],
   "source": [
    "list_test = glob.glob('log_service/audio_bu/wavs-2022-03-16/*/*.wav')\n",
    "os.makedirs('log_service/audio_bu/wavs-2022-03-16/norm/', exist_ok=True)\n",
    "os.makedirs('log_service/audio_bu/wavs-2022-03-16/auth/', exist_ok=True)\n",
    "\n",
    "for fname in tqdm(list_test):\n",
    "    if 'norm' in fname:\n",
    "        os.makedirs(str(Path(fname).parent).replace('log_service/audio_bu/wavs-2022-03-16/', 'log_service/audio_bu/wavs-2022-03-16/norm/'), exist_ok=True)\n",
    "        subprocess.call(f\"mv {fname} {fname.replace('log_service/audio_bu/wavs-2022-03-16/', 'log_service/audio_bu/wavs-2022-03-16/norm/')}\", shell=True)\n",
    "    else:\n",
    "        os.makedirs(str(Path(fname).parent).replace('log_service/audio_bu/wavs-2022-03-16/', 'log_service/audio_bu/wavs-2022-03-16/auth/'), exist_ok=True)\n",
    "        subprocess.call(f\"mv {fname} {fname.replace('log_service/audio_bu/wavs-2022-03-16/', 'log_service/audio_bu/wavs-2022-03-16/auth/')}\", shell=True)"
   ]
  },
  {
   "cell_type": "code",
   "execution_count": null,
   "id": "45ae624d",
   "metadata": {},
   "outputs": [],
   "source": [
    "count_1 = 0\n",
    "for di in glob.glob('log_service/ref_audio_v2/audio/*'):\n",
    "    list_test = glob.glob(f\"{di}/*.wav\")\n",
    "    pairs = all_pairs(list_test)\n",
    "    count_1 += len(pairs)\n",
    "count_1"
   ]
  },
  {
   "cell_type": "code",
   "execution_count": 24,
   "id": "3df6de50",
   "metadata": {},
   "outputs": [
    {
     "data": {
      "text/plain": [
       "'log_service/audio_bu/wavs-2022-03-16/norm/346165056'"
      ]
     },
     "execution_count": 24,
     "metadata": {},
     "output_type": "execute_result"
    }
   ],
   "source": [
    "str(Path(list_test[0]).parent).replace('log_service/audio_bu/wavs-2022-03-16/', 'log_service/audio_bu/wavs-2022-03-16/norm/')"
   ]
  },
  {
   "cell_type": "code",
   "execution_count": null,
   "id": "153fbcd1",
   "metadata": {},
   "outputs": [],
   "source": [
    "list_test = glob.glob('log_service/ref_audio_v2/audio/*/*.wav')\n",
    "print(list_test[0].replace('com_', ''))"
   ]
  },
  {
   "cell_type": "markdown",
   "id": "21c53a38",
   "metadata": {},
   "source": [
    "#### test augment types of audio"
   ]
  },
  {
   "cell_type": "code",
   "execution_count": null,
   "id": "fe84bb25",
   "metadata": {},
   "outputs": [],
   "source": [
    "default_path1 = 'dataset/dump/thuyth.wav'\n",
    "stream_and_plot_audio('log_service/audio_v2/912582757/912582757-20220309-092406_20220309_022733_com_0.wav', True)"
   ]
  },
  {
   "cell_type": "code",
   "execution_count": null,
   "id": "dc2d09f2",
   "metadata": {
    "scrolled": true
   },
   "outputs": [],
   "source": [
    "with open('backup/Raw_ECAPA/result/private_test_results.txt', 'r') as rf:\n",
    "    lines = [line.replace('\\n', '') for line in rf.readlines()[1:]]\n",
    "\n",
    "count = {}\n",
    "for line in lines:\n",
    "    audio1, audio2, pred, score = line.split(',')\n",
    "    label1, fname1 = audio1.split('/')[-2:]\n",
    "    label2, fname2 = audio2.split('/')[-2:]\n",
    "    if (label1 == label2) != bool(int(pred)):\n",
    "        if fname1 not in count:\n",
    "            count[fname1] = 0\n",
    "        if fname2 not in count:\n",
    "            count[fname2] = 0\n",
    "        \n",
    "        if bool(int(pred)) and not (label1 == label2):\n",
    "            # false accepted:\n",
    "            print(f\"FP {fname1} {fname2} {score}\")\n",
    "        else:\n",
    "            # False negative pairs: false rejected\n",
    "            print(f\"FN {fname1} {fname2} {score}\")\n",
    "        count[fname1] += 1\n",
    "        count[fname2] += 1\n",
    "    pass\n",
    "count"
   ]
  },
  {
   "cell_type": "code",
   "execution_count": null,
   "id": "38f6415a",
   "metadata": {},
   "outputs": [],
   "source": [
    "sound = sf.read('dataset/dump/thuyth.wav')[0]"
   ]
  },
  {
   "cell_type": "code",
   "execution_count": null,
   "id": "65cccf75",
   "metadata": {},
   "outputs": [],
   "source": [
    "from signal_process_utils import *\n",
    "from utils import random_drop_chunk"
   ]
  },
  {
   "cell_type": "code",
   "execution_count": null,
   "id": "a455379e",
   "metadata": {
    "scrolled": true
   },
   "outputs": [],
   "source": [
    "sound_dropped = random_drop_chunk(sound, [1], noise_factor=0)\n",
    "plt.figure()\n",
    "plt.plot(sound_dropped)\n",
    "\n",
    "plt.figure()\n",
    "plt.plot(sound)\n",
    "plt.show()\n",
    "\n",
    "np.testing.assert_allclose(sound_dropped, sound, rtol=1e-03, atol=1e-05)\n"
   ]
  },
  {
   "cell_type": "code",
   "execution_count": null,
   "id": "0f53fb25",
   "metadata": {},
   "outputs": [],
   "source": [
    "ipd.Audio(sound_dropped, rate=8000, autoplay=True)"
   ]
  },
  {
   "cell_type": "code",
   "execution_count": 159,
   "id": "84c27c15",
   "metadata": {},
   "outputs": [
    {
     "name": "stderr",
     "output_type": "stream",
     "text": [
      "100%|██████████| 9015/9015 [00:05<00:00, 1798.86it/s]\n"
     ]
    }
   ],
   "source": [
    "from pydub import AudioSegment\n",
    "from utils import *\n",
    "for noise_f in tqdm(glob.glob(\"dataset/noise_vad/noise_vad/*/*.wav\")):\n",
    "    noise_seg = AudioSegment.from_file(noise_f)\n",
    "    noise_seg_new_vol = gain_target_amplitude(noise_seg, -38)\n",
    "    noise_seg_new_vol.export(noise_f, format=\"wav\")"
   ]
  },
  {
   "cell_type": "code",
   "execution_count": 14,
   "id": "996a2f1b",
   "metadata": {},
   "outputs": [],
   "source": [
    "from utils import *\n",
    "from processing import audio_loader\n",
    "augment_engine = audio_loader.AugmentWAV(musan_path=\"dataset/augment_data/musan_split/\",\n",
    "                                 rir_path=\"dataset/augment_data/RIRS_NOISES/simulated_rirs/\",\n",
    "                                 max_frames=500,\n",
    "                                 sample_rate=8000)"
   ]
  },
  {
   "cell_type": "code",
   "execution_count": 48,
   "id": "3f05a4d8",
   "metadata": {},
   "outputs": [
    {
     "name": "stdout",
     "output_type": "stream",
     "text": [
      "noise music None\n"
     ]
    },
    {
     "data": {
      "image/png": "[encoded data removed]",
      "text/plain": [
       "<Figure size 1728x576 with 1 Axes>"
      ]
     },
     "metadata": {
      "needs_background": "light"
     },
     "output_type": "display_data"
    },
    {
     "data": {
      "text/html": [
       "\n",
       "                <audio  controls=\"controls\" autoplay=\"autoplay\">\n",
       "                    <source src=\"data:audio/wav;base64,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\" type=\"audio/wav\" />\n",
       "                    Your browser does not support the audio element.\n",
       "                </audio>\n",
       "              "
      ],
      "text/plain": [
       "<IPython.lib.display.Audio object>"
      ]
     },
     "execution_count": 48,
     "metadata": {},
     "output_type": "execute_result"
    }
   ],
   "source": [
    "audio_file = \"dataset/train_callbot_v2/train_v2/spk0/spk0-20220205-064325-in_0.wav\"\n",
    "audio = audio_loader.loadWAV(audio_file, 500, \n",
    "                evalmode=False, \n",
    "                augment=False, \n",
    "                sample_rate=8000, \n",
    "                augment_chain=['env_corrupt', 'time_domain', 'spec_domain'])\n",
    "audio_raw = audio.copy()\n",
    "augtype , mode, order = None, None, None\n",
    "augtype = np.random.choice(['rev', 'noise', 'both', 'none'], p=[0, 1.0, 0, 0])\n",
    "\n",
    "if augtype == 'rev':\n",
    "    audio = augment_engine.reverberate(audio)\n",
    "elif augtype == 'noise':\n",
    "    mode = np.random.choice(['music', 'speech', 'noise', 'noise_vad'], p=[1.0, 0, 0, 0])\n",
    "    audio = augment_engine.additive_noise(mode, audio)\n",
    "elif augtype == 'both':\n",
    "    # combined reverb and noise\n",
    "    order = np.random.choice(['noise_first', 'rev_first'], p=[0.5, 0.5])\n",
    "    if order == 'rev_first':\n",
    "        audio =augment_engine.reverberate(audio)\n",
    "        mode = np.random.choice(['music', 'speech', 'noise', 'noise_vad'], p=[0.3, 0.3, 0.4, 0])\n",
    "        audio = augment_engine.additive_noise(mode, audio)\n",
    "    else:\n",
    "        mode = np.random.choice(['music', 'speech', 'noise', 'noise_vad'], p=[0.3, 0.3, 0.4, 0])\n",
    "        audio = augment_engine.additive_noise(mode, audio)   \n",
    "        audio = augment_engine.reverberate(audio)\n",
    "else:\n",
    "    # none type means dont augment\n",
    "    pass\n",
    "\n",
    "print(augtype , mode, order)\n",
    "\n",
    "plt.figure(figsize=(24,8))\n",
    "plt.plot(np.squeeze(audio), color='red')\n",
    "plt.plot(np.squeeze(audio_raw), color='green')\n",
    "plt.show()\n",
    "ipd.Audio(audio, rate=8000, autoplay=True)"
   ]
  },
  {
   "cell_type": "code",
   "execution_count": null,
   "id": "1222cbe8",
   "metadata": {},
   "outputs": [],
   "source": []
  }
 ],
 "metadata": {
  "kernelspec": {
   "display_name": "Python 3",
   "language": "python",
   "name": "python3"
  },
  "language_info": {
   "codemirror_mode": {
    "name": "ipython",
    "version": 3
   },
   "file_extension": ".py",
   "mimetype": "text/x-python",
   "name": "python",
   "nbconvert_exporter": "python",
   "pygments_lexer": "ipython3",
   "version": "3.8.8"
  }
 },
 "nbformat": 4,
 "nbformat_minor": 5
}
