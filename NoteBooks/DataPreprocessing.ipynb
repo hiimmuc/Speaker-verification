{
 "cells": [
  {
   "cell_type": "code",
   "execution_count": null,
   "id": "576cca54",
   "metadata": {},
   "outputs": [],
   "source": [
    "import time\n",
    "from pathlib import Path\n",
    "import glob\n",
    "import os\n",
    "import numpy as np\n",
    "from tqdm import tqdm\n",
    "import itertools\n",
    "import csv\n",
    "import matplotlib.pyplot as plt\n",
    "from scipy.io import wavfile\n",
    "import librosa\n",
    "import IPython.display as ipd\n",
    "from IPython.display import clear_output"
   ]
  },
  {
   "cell_type": "code",
   "execution_count": null,
   "id": "32d10933",
   "metadata": {},
   "outputs": [],
   "source": [
    "def plot_spec(filepath):\n",
    "    samplingFrequency, signalData = wavfile.read(filepath)\n",
    "    \n",
    "    # Plot the signal read from wav file\n",
    "    plt.subplot(211)\n",
    "\n",
    "    plt.title('Spectrogram of a wav file')\n",
    "\n",
    "    plt.plot(signalData)\n",
    "    plt.xlabel('Sample')\n",
    "    plt.ylabel('Amplitude')\n",
    "\n",
    "    plt.subplot(212)\n",
    "    plt.specgram(signalData,Fs=samplingFrequency,NFFT=512)\n",
    "    plt.xlabel('Time')\n",
    "    plt.ylabel('Frequency')\n",
    "    \n",
    "    plt.show()"
   ]
  },
  {
   "cell_type": "code",
   "execution_count": null,
   "id": "719426fb",
   "metadata": {
    "scrolled": true
   },
   "outputs": [],
   "source": [
    "folder = glob.glob('dataset/wavs/*')"
   ]
  },
  {
   "cell_type": "markdown",
   "id": "8dcc7690",
   "metadata": {},
   "source": [
    "Check all dataset"
   ]
  },
  {
   "cell_type": "code",
   "execution_count": null,
   "id": "8b8e113b",
   "metadata": {},
   "outputs": [],
   "source": [
    "nfiles = [len(os.listdir(x)) for x in glob.glob(f'dataset/wavs/*')]\n",
    "start_id = 377\n",
    "\n",
    "for index in range(start_id, 400):\n",
    "    audio_in_folder = [str(Path(x)) for x in glob.glob(f'dataset/wavs/{folder[index]}/*.wav')]\n",
    "    print(folder[index], 'id:', index, 'count:', sum(nfiles[:index]))\n",
    "    for i, f in enumerate(audio_in_folder):\n",
    "        path  = str(Path(f))\n",
    "        print(f\"[{i + 1}/{len(audio_in_folder)}] {path}\")\n",
    "\n",
    "        audio = ipd.Audio(path, autoplay=True) \n",
    "        ipd.display(audio)\n",
    "\n",
    "        duration = librosa.get_duration(filename=path)\n",
    "        time.sleep(duration + 0.5)\n",
    "    time.sleep(1.0)\n",
    "    clear_output(wait=True)"
   ]
  },
  {
   "cell_type": "markdown",
   "id": "1de26955",
   "metadata": {},
   "source": [
    "Check each folder"
   ]
  },
  {
   "cell_type": "code",
   "execution_count": null,
   "id": "3fe55a49",
   "metadata": {
    "scrolled": true
   },
   "outputs": [],
   "source": [
    "audio_in_folder = glob.glob(f'dataset/wavs/734-M-41/*.wav')\n",
    "for i, f in enumerate(audio_in_folder):\n",
    "    path  = str(Path(f))\n",
    "    print(f\"[{i + 1}/{len(audio_in_folder)}] {path}\", end=' ')\n",
    "    \n",
    "    audio = ipd.Audio(path, autoplay=True) \n",
    "    ipd.display(audio)\n",
    "    \n",
    "    duration = librosa.get_duration(filename=path)\n",
    "#     print(duration, end='\\n\\n')\n",
    "    time.sleep(duration + 0.5)"
   ]
  },
  {
   "cell_type": "markdown",
   "id": "c568e0bb",
   "metadata": {},
   "source": [
    "Check each files"
   ]
  },
  {
   "cell_type": "code",
   "execution_count": null,
   "id": "863f3c5e",
   "metadata": {},
   "outputs": [],
   "source": [
    "path = f\"dataset/aug_wavs/272-M-26/speaker_272-10_augmented_1.wav\"\n",
    "plot_spec(path)\n",
    "ipd.Audio(path, autoplay=True)"
   ]
  },
  {
   "cell_type": "markdown",
   "id": "e126da6e",
   "metadata": {},
   "source": [
    "check folder and print name file path with theirduration"
   ]
  },
  {
   "cell_type": "code",
   "execution_count": null,
   "id": "1a1af450",
   "metadata": {
    "scrolled": true
   },
   "outputs": [],
   "source": [
    "audio_in_folder = glob.glob(f'dataset/wavs/424-M-28/*.wav')\n",
    "# dump = []\n",
    "for i, f in enumerate(audio_in_folder):\n",
    "    path  = str(Path(f))\n",
    "    print(f\"[{i + 1}/{len(audio_in_folder)}] {path}\", end=' ')\n",
    "    duration = librosa.get_duration(filename=path)\n",
    "    print(duration, end='\\n\\n')"
   ]
  },
  {
   "cell_type": "markdown",
   "id": "851be666",
   "metadata": {},
   "source": [
    "Perform vad on long file(>10s of duration)"
   ]
  },
  {
   "cell_type": "code",
   "execution_count": null,
   "id": "b962e2fc",
   "metadata": {},
   "outputs": [],
   "source": [
    "from utils import *\n",
    "path = f\"dataset/wavs/726-M-34/726-9.wav\"\n",
    "write = True\n",
    "segments = VAD(win_length=200).detect(path, write=write, show=False)\n",
    "print(len(segments))"
   ]
  },
  {
   "cell_type": "markdown",
   "id": "d32d864d",
   "metadata": {},
   "source": [
    "## Delete noise"
   ]
  },
  {
   "cell_type": "markdown",
   "id": "07aef2a8",
   "metadata": {},
   "source": [
    "Get n-thresh files which have shortest length and put to dump to remove later, n is number of files in folder, thresh take 35"
   ]
  },
  {
   "cell_type": "markdown",
   "id": "ba7a89df",
   "metadata": {},
   "source": [
    "## Plot graphs"
   ]
  },
  {
   "cell_type": "code",
   "execution_count": null,
   "id": "01728d41",
   "metadata": {},
   "outputs": [],
   "source": [
    "origin = \"dataset/wavs_35/\"\n",
    "filenames = glob.glob(f\"{origin}/*\")\n",
    "# filenames"
   ]
  },
  {
   "cell_type": "code",
   "execution_count": null,
   "id": "f66d1eee",
   "metadata": {},
   "outputs": [],
   "source": [
    "# so luong files moi nguoi\n",
    "no_of_files = []\n",
    "for f in filenames:\n",
    "    if len(os.listdir(f)) == 0:\n",
    "        print(f)\n",
    "    no_of_files.append(len(os.listdir(f)))\n",
    "plt.figure(figsize=(24, 8))\n",
    "plt.bar(filenames, no_of_files), plt.ylabel('number of files'), plt.xticks([])\n",
    "plt.tight_layout()"
   ]
  },
  {
   "cell_type": "code",
   "execution_count": null,
   "id": "5be6774f",
   "metadata": {},
   "outputs": [],
   "source": [
    "np.mean(no_of_files), filenames[np.argmax(no_of_files)], filenames[np.argmin(no_of_files)], sum(no_of_files), max(no_of_files), min(no_of_files)"
   ]
  },
  {
   "cell_type": "code",
   "execution_count": null,
   "id": "c8869237",
   "metadata": {},
   "outputs": [],
   "source": [
    "# thoi gian audio cua moi nguoi\n",
    "import wave\n",
    "import librosa\n",
    "import contextlib\n",
    "\n",
    "def get_duration(fn):\n",
    "    length = 0\n",
    "    for audio in os.listdir(fn):\n",
    "        with contextlib.closing(wave.open(os.path.join(fn, audio),'r')) as f:\n",
    "            frames = f.getnframes()\n",
    "            rate = f.getframerate()\n",
    "            duration_each = frames / float(rate)\n",
    "        length += duration_each\n",
    "    return length\n",
    "    \n",
    "\n",
    "durations = []\n",
    "for fn in tqdm(filenames):\n",
    "    length = get_duration(fn)\n",
    "    durations.append(length)\n",
    "plt.figure(figsize=(24, 8))\n",
    "plt.bar(filenames, durations), plt.ylabel('durations'), plt.xticks([]), plt.tight_layout()\n",
    "plt.show()"
   ]
  },
  {
   "cell_type": "code",
   "execution_count": null,
   "id": "5f715ea7",
   "metadata": {},
   "outputs": [],
   "source": [
    "np.mean(durations), np.argmax(durations), sum(durations), max(durations), min(durations)"
   ]
  },
  {
   "cell_type": "code",
   "execution_count": null,
   "id": "c478825e",
   "metadata": {},
   "outputs": [],
   "source": [
    "# mat do thoi gian / 1 audio tren moi nguoi\n",
    "import numpy as np\n",
    "no_of_files = np.array(no_of_files)\n",
    "durations = np.array(durations)\n",
    "avg_durations = np.divide(durations, no_of_files)\n",
    "plt.figure(figsize=(24, 8))\n",
    "plt.bar(filenames, avg_durations), plt.ylabel('avg_durations'), plt.xticks([]), plt.tight_layout()\n",
    "plt.show()"
   ]
  },
  {
   "cell_type": "code",
   "execution_count": null,
   "id": "9d321316",
   "metadata": {
    "scrolled": true
   },
   "outputs": [],
   "source": [
    "avg_durations.mean(), np.argmax(avg_durations), sum(durations), max(avg_durations), min(avg_durations)"
   ]
  },
  {
   "cell_type": "markdown",
   "id": "4f97bcff",
   "metadata": {},
   "source": [
    "## EQUALIZE DATASET"
   ]
  },
  {
   "cell_type": "markdown",
   "id": "1261bc0c",
   "metadata": {},
   "source": [
    "Check the inequality of dataset and print out details, return number of files greater ans lower than threshold(35 files)"
   ]
  },
  {
   "cell_type": "code",
   "execution_count": null,
   "id": "6c7edcf0",
   "metadata": {},
   "outputs": [],
   "source": [
    "def check_inequality_data():\n",
    "    '''to check the inequality of dataset from wavs folder\n",
    "    '''\n",
    "    root = Path(\"dataset/wavs_35\")\n",
    "    thresh = 35\n",
    "    \n",
    "    audio_folder_num = {}\n",
    "    for audio_folder in root.iterdir():\n",
    "        audio_folder_num[audio_folder.name] = len(os.listdir(audio_folder))\n",
    "    mean_num = np.mean(list(audio_folder_num.values()))\n",
    "    print(\"Total files:\", sum(audio_folder_num.values()))\n",
    "    print(\"mean number of audio files each folder\", mean_num)\n",
    "    print(\"min and max of number of files:\", min(audio_folder_num.values()), max(audio_folder_num.values()))\n",
    "    print(list(audio_folder_num.keys())[np.argmin(list(audio_folder_num.values()))])\n",
    "    \n",
    "    greater_than_mean = [k for k, v in audio_folder_num.items() if v > 1.1 * mean_num]\n",
    "    lower_than_mean = [k for k, v in audio_folder_num.items() if v < 0.9 * mean_num]\n",
    "    lower_than_thresh = [k for k, v in audio_folder_num.items() if v < thresh]\n",
    "    greater_than_thresh = [k for k, v in audio_folder_num.items() if v > thresh]\n",
    "    \n",
    "    print('//===================================')\n",
    "    # check for the total duration of each folder\n",
    "    audio_folder_duration = {}\n",
    "    for audio_folder in root.iterdir():\n",
    "        audio_folder_duration[audio_folder.name] = sum([audio_file.stat().st_size for audio_file in audio_folder.iterdir()])\n",
    "    mean_duration = np.mean(list(audio_folder_duration.values()))\n",
    "    print(\"Total size:\", sum(audio_folder_duration.values())/1e6, \"MB\")\n",
    "    print(\"mean duration of audio files each folder\", mean_duration/(1024*1024), \"MB\")\n",
    "    print(\"min and max of duration:\", min(audio_folder_duration.values())/(1024*1024), max(audio_folder_duration.values())/(1024*1024), \"MB\")\n",
    "    \n",
    "    greater_than_mean_duration = [k for k, v in audio_folder_duration.items() if v > 1.1 * mean_duration]\n",
    "    lower_than_mean_duration = [k for k, v in audio_folder_duration.items() if v < 0.9 * mean_duration]\n",
    "\n",
    "    print('//===================================')\n",
    "\n",
    "    long_large = np.intersect1d(greater_than_mean, greater_than_mean_duration)\n",
    "    short_small = np.intersect1d(lower_than_mean, lower_than_mean_duration)\n",
    "    long_small = np.setxor1d(greater_than_mean, long_large)\n",
    "    short_large = np.setxor1d(lower_than_mean, short_small)\n",
    "\n",
    "\n",
    "    print(\"greater than mean in number of files:\", len(greater_than_mean))\n",
    "    print(\"lower than mean in number of files:\", len(lower_than_mean))\n",
    "    print(\"greater than mean in duration:\", len(greater_than_mean_duration))\n",
    "    print(\"lower than mean in duration:\", len(lower_than_mean_duration))\n",
    "    \n",
    "    print('//===================================')\n",
    "\n",
    "    print(\"long_large:\", len(long_large))\n",
    "    print(\"short_small:\", len(short_small))\n",
    "    print(\"long_small:\", len(long_small))\n",
    "    print(\"short_large:\", len(short_large))\n",
    "\n",
    "\n",
    "    with open(\"data_inequality.txt\", 'w') as f:\n",
    "        f.write(\"long_large: \\n\")\n",
    "        for line in long_large:\n",
    "            f.write(line + ' - ' + str(audio_folder_num[line]) +  ' - ' + str(audio_folder_duration[line])  + '\\n')\n",
    "\n",
    "        f.write(\"short_small: augment \\n\")\n",
    "        for line in short_small:\n",
    "            f.write(line + ' - ' + str(audio_folder_num[line]) +  ' - ' + str(audio_folder_duration[line])  + '\\n')\n",
    "\n",
    "        f.write(\"long_small: \\n\")\n",
    "        for line in long_small:\n",
    "            f.write(line + ' - ' + str(audio_folder_num[line]) +  ' - ' + str(audio_folder_duration[line])  + '\\n')\n",
    "  \n",
    "\n",
    "        f.write(\"short_large: vad \\n\")\n",
    "        for line in short_large:\n",
    "            f.write(line + ' - ' + str(audio_folder_num[line]) +  ' - ' + str(audio_folder_duration[line])  + '\\n')\n",
    "\n",
    "        f.write(\"greater than thresh:  \\n\")\n",
    "        for line in greater_than_thresh:\n",
    "            f.write(line + ' - ' + str(audio_folder_num[line] - thresh) + ' / ' +  str(audio_folder_num[line]) + '\\n')\n",
    "           \n",
    "    \n",
    "    return lower_than_thresh, greater_than_thresh, short_large\n",
    "            \n",
    "add, elim, need_vad = check_inequality_data()"
   ]
  },
  {
   "cell_type": "code",
   "execution_count": null,
   "id": "1e0e02fc",
   "metadata": {
    "scrolled": true
   },
   "outputs": [],
   "source": [
    "len(add), len(elim)"
   ]
  },
  {
   "cell_type": "markdown",
   "id": "845b35d2",
   "metadata": {},
   "source": [
    "For small number of files folder but with large size, perform vad for all >10s audio files in that folder"
   ]
  },
  {
   "cell_type": "code",
   "execution_count": null,
   "id": "8cd1d4b5",
   "metadata": {},
   "outputs": [],
   "source": [
    "# vad for vad list\n",
    "from utils import *\n",
    "def vad_on_vad_list(vad_list):\n",
    "    root = 'dataset/wavs_35'\n",
    "    vad_list = [str(Path(root, f)) for f in vad_list]\n",
    "\n",
    "    vad_engine = VAD(frame_duration=30, win_length=200)\n",
    "\n",
    "    data_paths = []\n",
    "    for fdir in tqdm(vad_list):\n",
    "        data_paths.extend(\n",
    "            glob.glob(f'{fdir}/*.wav'))\n",
    "\n",
    "    # filters audiopaths\n",
    "    raw_paths = list(\n",
    "        filter(lambda x: 'augment' not in str(x) and 'vad' not in str(x), data_paths))\n",
    "\n",
    "    for audio_path in tqdm(raw_paths, desc=\"Vad performing\"):\n",
    "        duration = librosa.get_duration(filename=audio_path)\n",
    "        if duration >= 10.0:\n",
    "            vad_engine.detect(audio_path, write=True, show=False)\n",
    "        \n",
    "    print(\"Done!\")"
   ]
  },
  {
   "cell_type": "code",
   "execution_count": null,
   "id": "d853888d",
   "metadata": {},
   "outputs": [],
   "source": [
    "# vad on short large\n",
    "vad_on_vad_list(need_vad)"
   ]
  },
  {
   "cell_type": "markdown",
   "id": "9b572e01",
   "metadata": {},
   "source": [
    "With folder have number of files less than threshold, copy augmented files randomly from aug_wavs dataset"
   ]
  },
  {
   "cell_type": "markdown",
   "id": "7ce2b7c4",
   "metadata": {},
   "source": [
    "add augment to short small"
   ]
  },
  {
   "cell_type": "code",
   "execution_count": null,
   "id": "7aa45998",
   "metadata": {},
   "outputs": [],
   "source": [
    "import random\n",
    "import shutil\n",
    "from tqdm import tqdm\n",
    "\n",
    "def add_augment_file(add, thresh=26):\n",
    "    aug_root = 'dataset/aug_wavs'\n",
    "    spk_root = 'dataset/wavs_35'\n",
    "    for f in tqdm(add):\n",
    "        gap = thresh - len(os.listdir(Path(spk_root, f))) \n",
    "        aug_files = glob.glob(f\"{Path(aug_root, f)}/*.wav\")\n",
    "        choices = random.sample(aug_files, gap)\n",
    "        for choice in choices:\n",
    "            src = choice\n",
    "            dst = choice.replace(str(Path(aug_root, f)), str(Path(spk_root, f)))\n",
    "#             print(src, '->', dst)\n",
    "            shutil.copy(src, dst)\n",
    "    print('DONE')\n",
    "\n",
    "add_augment_file(add, thresh=35)"
   ]
  },
  {
   "cell_type": "markdown",
   "id": "a02b6850",
   "metadata": {},
   "source": [
    "Delete long folder"
   ]
  },
  {
   "cell_type": "code",
   "execution_count": null,
   "id": "5628339c",
   "metadata": {},
   "outputs": [],
   "source": [
    "def delete_redundance(elim):\n",
    "    for f in tqdm(elim):\n",
    "        audio_in_folder = glob.glob(f\"dataset/wavs_35/{f}/*.wav\")\n",
    "        gap = len(audio_in_folder) - 35\n",
    "\n",
    "        dump = {}\n",
    "\n",
    "        for i, f in enumerate(audio_in_folder):\n",
    "            path  = str(Path(f))\n",
    "            duration = librosa.get_duration(filename=path)\n",
    "            dump[path] = duration\n",
    "        dump = {k: v for k, v in sorted(dump.items(), key=lambda item: item[1])}\n",
    "\n",
    "        delete_files = list(dump.keys())[:gap]\n",
    "        for f in tqdm(delete_files):\n",
    "        #     path = os.path.join('dataset/wavs/' , f)\n",
    "            if os.path.exists(f):\n",
    "#                 print(\"delete\", f)\n",
    "                os.remove(f)"
   ]
  },
  {
   "cell_type": "code",
   "execution_count": null,
   "id": "d4ec1338",
   "metadata": {
    "scrolled": true
   },
   "outputs": [],
   "source": [
    "delete_redundance(elim)"
   ]
  }
 ],
 "metadata": {
  "kernelspec": {
   "display_name": "Python 3",
   "language": "python",
   "name": "python3"
  },
  "language_info": {
   "codemirror_mode": {
    "name": "ipython",
    "version": 3
   },
   "file_extension": ".py",
   "mimetype": "text/x-python",
   "name": "python",
   "nbconvert_exporter": "python",
   "pygments_lexer": "ipython3",
   "version": "3.8.8"
  }
 },
 "nbformat": 4,
 "nbformat_minor": 5
}
