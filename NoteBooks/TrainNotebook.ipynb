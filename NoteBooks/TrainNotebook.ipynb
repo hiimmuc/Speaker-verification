{
 "cells": [
  {
   "cell_type": "markdown",
   "id": "d97cbeba",
   "metadata": {},
   "source": [
    "## install packages"
   ]
  },
  {
   "cell_type": "code",
   "execution_count": null,
   "id": "0a760ad5",
   "metadata": {},
   "outputs": [],
   "source": [
    "# !python3 -m pip install packages/ipywidgets-7.6.5.tar.gz -f ./ --no-index --no-deps"
   ]
  },
  {
   "cell_type": "code",
   "execution_count": null,
   "id": "e643d354",
   "metadata": {},
   "outputs": [],
   "source": [
    "# install dependencies uploaded in packages folder\n",
    "# !python3 -m pip install packages/ipywidgets-7.6.5.tar.gz\n",
    "import subprocess\n",
    "import glob\n",
    "import os\n",
    "from tqdm import tqdm\n",
    "package_files = glob.glob(os.path.join('packages', '*.whl')) + glob.glob(os.path.join('packages', '*.tar.gz'))\n",
    "# print('Installing:', package_files)\n",
    "for f in tqdm(package_files, desc=\"Installing packages...\"):\n",
    "    subprocess.call(f\"pip install {f} -f ./ --no-index --no-deps | tqdm\", shell=True)"
   ]
  },
  {
   "cell_type": "code",
   "execution_count": null,
   "id": "56523f7f",
   "metadata": {},
   "outputs": [],
   "source": [
    "# !pip list"
   ]
  },
  {
   "cell_type": "code",
   "execution_count": null,
   "id": "640479cc",
   "metadata": {},
   "outputs": [],
   "source": [
    "%cd mainfile"
   ]
  },
  {
   "cell_type": "code",
   "execution_count": null,
   "id": "32073094",
   "metadata": {},
   "outputs": [],
   "source": [
    "%pwd"
   ]
  },
  {
   "cell_type": "code",
   "execution_count": null,
   "id": "7ecff729",
   "metadata": {},
   "outputs": [],
   "source": [
    "!python dataprep.py --generate --split_ratio -1 --raw_dataset dataset/wavs_35"
   ]
  },
  {
   "cell_type": "code",
   "execution_count": null,
   "id": "2b7bdda6",
   "metadata": {},
   "outputs": [],
   "source": [
    "with open('dataset/train_def.txt', 'r') as f:\n",
    "    print(len(f.readlines()))\n",
    "with open('dataset/val_def.txt', 'r') as f:\n",
    "    print(len(f.readlines()))"
   ]
  },
  {
   "cell_type": "markdown",
   "id": "7e01c12e",
   "metadata": {},
   "source": [
    "# Training"
   ]
  },
  {
   "cell_type": "markdown",
   "id": "d2716c10",
   "metadata": {},
   "source": [
    "### Phase 1 classifier"
   ]
  },
  {
   "cell_type": "code",
   "execution_count": null,
   "id": "73b8b75b",
   "metadata": {
    "scrolled": true
   },
   "outputs": [],
   "source": [
    "!python main.py --do_train --augment \\\n",
    "                --device \"cuda:2\" \\\n",
    "                --train_list dataset/train_def.txt \\\n",
    "                --test_list dataset/val_def.txt \\\n",
    "                --model RawNet2v2 \\\n",
    "                --max_epoch 500 \\\n",
    "                --batch_size 32 \\\n",
    "                --nDataLoaderThread 2 \\\n",
    "                --criterion softmaxproto \\\n",
    "                --nPerSpeaker 2 \\\n",
    "                --n_mels 80 \\\n",
    "                --margin 0.2\\\n",
    "                --scale 30\\\n",
    "                --early_stop \\\n",
    "                --es_patience 30 \\\n",
    "                --weight_decay 0.000002 \\\n",
    "                --callbacks auto \\\n",
    "                --max_frames 200 \\\n",
    "                --initial_model exp/RawNet2v2/model/best_state_2810_9006acc.model"
   ]
  },
  {
   "cell_type": "markdown",
   "id": "f681b67f",
   "metadata": {},
   "source": [
    "### Phase 2 metric loss"
   ]
  },
  {
   "cell_type": "code",
   "execution_count": null,
   "id": "030e0892",
   "metadata": {
    "scrolled": true
   },
   "outputs": [],
   "source": [
    "!python main.py --do_train --augment \\\n",
    "                --device \"cuda:2\" \\\n",
    "                --train_list dataset/train_def.txt \\\n",
    "                --test_list dataset/val_def.txt \\\n",
    "                --save_path exp \\\n",
    "                --model RawNet2v2 \\\n",
    "                --max_epoch 500 \\\n",
    "                --batch_size 64 \\\n",
    "                --nDataLoaderThread 1 \\\n",
    "                --criterion softmaxproto \\\n",
    "                --margin 0.1\\\n",
    "                --scale 30\\\n",
    "                --nPerSpeaker 2 \\\n",
    "                --early_stop \\\n",
    "                --es_patience 30 \\\n",
    "                --callbacks cosinelr \\\n",
    "                --initial_model exp/RawNet2v2/model/best_state_2810_9006acc.model"
   ]
  },
  {
   "cell_type": "markdown",
   "id": "dd01390e",
   "metadata": {},
   "source": [
    "#### E2E model"
   ]
  },
  {
   "cell_type": "code",
   "execution_count": null,
   "id": "601625e3",
   "metadata": {},
   "outputs": [],
   "source": [
    "!python main.py --do_train --augment \\\n",
    "                --train_list dataset/train_extended.txt \\\n",
    "                --test_list dataset/val_extended.txt \\\n",
    "                --model RawNet2v3 \\\n",
    "                --max_epoch 1000 \\\n",
    "                --batch_size 8 \\\n",
    "                --nDataLoaderThread 1 \\\n",
    "                --criterion softmaxproto \\\n",
    "                --margin 0.1\\\n",
    "                --scale 30\\\n",
    "                --nPerSpeaker 2 \\\n",
    "                --device \"cuda:2\" \\\n",
    "                --initial_model exp/RawNet2v3/model/best_state_smproto_320ep.model\n",
    "# train lai thi de lr = 0.003 de 0.003*0.95**20 = 0.001"
   ]
  },
  {
   "cell_type": "markdown",
   "id": "0791c333",
   "metadata": {},
   "source": [
    "# Inference"
   ]
  },
  {
   "cell_type": "code",
   "execution_count": null,
   "id": "77af4934",
   "metadata": {},
   "outputs": [],
   "source": [
    "!python main.py --do_infer --prepare \\\n",
    "                --device \"cuda:2\" \\\n",
    "                --model RawNet2v2 \\\n",
    "                --eval_frames 100 \\\n",
    "                --test_list dataset/val.def.txt \\\n",
    "                --cohorts_path checkpoint/dump_cohorts.npy \\\n",
    "#                 --initial_model_infer exp/model000000500-Copy1.model"
   ]
  },
  {
   "cell_type": "code",
   "execution_count": null,
   "id": "a732ff88",
   "metadata": {},
   "outputs": [],
   "source": [
    "%%timeit -n1 -r1\n",
    "!python main.py --do_infer --eval \\\n",
    "                --device \"cuda:2\"\\\n",
    "                --model RawNet2v2 \\\n",
    "                --test_list dataset/non_noise_test.txt \\\n",
    "                --eval_frames 100 \\\n",
    "                --save_path exp \\\n",
    "                --cohorts_path checkpoint/dump_cohorts.npy \\\n",
    "                --scoring_mode cosine \\\n",
    "                --initial_model_infer exp/RawNet2v2/model/best_state.model\n",
    "# ResNetSE34V2 RawNet2v2 RawNet2v3"
   ]
  },
  {
   "cell_type": "markdown",
   "id": "9732925b",
   "metadata": {},
   "source": [
    "### Train results"
   ]
  },
  {
   "cell_type": "markdown",
   "id": "a5111b45",
   "metadata": {},
   "source": [
    "**pretrain:** <br/> \n",
    "91,08964182023294% at norm 2.4921278953552246 <br/> \n",
    "90.56% cosine <br/> \n",
    "0.8775308377099724 on noise test\n",
    "\n",
    "**source:** <br/>\n",
    "retrain and test on mainfile cosine 0.9051651474954769 , norm 90.8300321861847\n",
    "0.8888843421156145 wav26\n",
    "\n",
    "**rawnet 2v2:** <br/>\n",
    "amsoftmax 89.63233473632087 0.25274425745010376, noisetest 0.8698454245440387 <br/> \n",
    "softmaxproto  0.9074772945568328(peak) noise_test 0.8830819671824<br/>\n",
    "0.9064202178197283\n",
    "0.9063887373796725\n",
    "msloss 0.8953633751714005 <br/>\n",
    "\n",
    "**rawnet 2v3:** <br/>\n",
    "softmaxproto 0.9030544607976796 (chua train xong) noise_test 0.870850060216898 <br/>\n",
    "\n",
    "**resnet34v2** <br/>\n",
    "only amsoftmax : 0.8981813145788455 noise test 0.8726228740125874<br/>\n",
    "amsoftproto 0.8960503722450445 noise test 0.8688899527926216 <br/>\n",
    "only metric: 88,00139485761678 <br/>\n",
    "softmaxproto: 0.9045211843177592(raw) noise-test 0.8751626266475027 <br/>\n",
    "\n",
    "**repVGG:**\n",
    "0.8371683635784459 <br/>"
   ]
  },
  {
   "cell_type": "code",
   "execution_count": null,
   "id": "957c81d8",
   "metadata": {},
   "outputs": [],
   "source": [
    "!python main.py --do_infer --test \\\n",
    "                --device \"cuda:2\" \\\n",
    "                --model RawNet2v2 \\\n",
    "                --eval_frames 100 \\\n",
    "                --save_path exp \\\n",
    "                --cohorts_path checkpoint/cohorts_rawnet2v2.npy \\\n",
    "                --test_threshold 0.25274425745010376\\\n",
    "                --scoring_mode cosine\\\n",
    "                --initial_model_infer exp/RawNet2v2/model/best_state_2610_1000ep.model\n",
    "#                 --initial_model_infer checkpoint/final_500.model\n",
    "#                 --initial_model_infer exp/ResNetSE34V2/model/best_state_d2110_2_8561.model \\\n"
   ]
  },
  {
   "cell_type": "code",
   "execution_count": null,
   "id": "26ad21eb",
   "metadata": {},
   "outputs": [],
   "source": [
    "import csv\n",
    "#check results\n",
    "def check_result(path):\n",
    "    ref = \"dataset/data_truth_yt_filter_noise.txt\"\n",
    "    com = path\n",
    "    \n",
    "    ref_data = {}\n",
    "    com_data = {}\n",
    "    \n",
    "\n",
    "    with open(ref, newline='') as rf:\n",
    "        spamreader = csv.reader(rf, delimiter=' ')\n",
    "        for row in tqdm(spamreader):\n",
    "            key = f\"{row[1]}/{row[-1]}\"\n",
    "            ref_data[key] = row[0]\n",
    "            \n",
    "    with open(com, newline='') as rf:\n",
    "        spamreader = csv.reader(rf, delimiter=',')\n",
    "        next(spamreader, None)\n",
    "        for row in tqdm(spamreader):\n",
    "            key = f\"{row[0]}/{row[1]}\"\n",
    "            com_data[key] = row[2]\n",
    "            \n",
    "#     assert len(ref_data)==len(com_data) or len(ref_data)==(len(com_data) + 1)\n",
    "    count = 0\n",
    "    for k, v in com_data.items():\n",
    "        if ref_data[k] == v:\n",
    "            count += 1\n",
    "    \n",
    "    print(\"Precision:\", count*100/len(ref_data))\n",
    "\n",
    "check_result(\"exp/RawNet2v2/result/submission_list_test.csv\")\n",
    "    "
   ]
  },
  {
   "cell_type": "markdown",
   "id": "1df46d83",
   "metadata": {},
   "source": [
    "## run deploy"
   ]
  },
  {
   "cell_type": "code",
   "execution_count": null,
   "id": "fa591e96",
   "metadata": {},
   "outputs": [],
   "source": [
    "!python server_test.py"
   ]
  },
  {
   "cell_type": "code",
   "execution_count": null,
   "id": "5313e56c",
   "metadata": {},
   "outputs": [],
   "source": [
    "len(glob.glob(\"dataset/wavs/*/*.wav\")) *0.8"
   ]
  },
  {
   "cell_type": "code",
   "execution_count": null,
   "id": "05dfbeb2",
   "metadata": {},
   "outputs": [],
   "source": [
    "with open('dataset/train.txt', 'r') as f:\n",
    "    print(len(f.readlines()))"
   ]
  },
  {
   "cell_type": "code",
   "execution_count": null,
   "id": "b9ed609e",
   "metadata": {},
   "outputs": [],
   "source": [
    "# convert text\n",
    "from pathlib import Path\n",
    "test_data = []\n",
    "ref = 'dataset/data_truth_yt_filter_noise.txt'\n",
    "write_file = 'dataset/data_public_test.txt'\n",
    "\n",
    "with open(ref, newline='') as rf:\n",
    "    spamreader = csv.reader(rf, delimiter=' ')\n",
    "    for row in tqdm(spamreader):\n",
    "        test_data.append([row[0], row[1], row[-1]])\n",
    "\n",
    "with open(write_file, 'w') as wf:\n",
    "    for dt in tqdm(test_data):\n",
    "        path1 = str(Path('dataset/public_test/data_test', dt[1]))\n",
    "        path2 = str(Path('dataset/public_test/data_test', dt[2]))\n",
    "        wf.write(f\"{dt[0]} {path1} {path2}\\n\")\n"
   ]
  },
  {
   "cell_type": "code",
   "execution_count": null,
   "id": "a5edd34b",
   "metadata": {},
   "outputs": [],
   "source": [
    "import torch.nn.functional as F\n",
    "import torch\n",
    "import numpy as np\n",
    "from numpy.linalg import norm\n",
    "\n",
    "def cosine_simialrity(ref, com):\n",
    "    similarity = torch.nn.CosineSimilarity(dim=-1, eps=1e-06)\n",
    "    return np.mean(abs(similarity(ref, com)).cpu().numpy())\n",
    "\n",
    "def cosine_sim_advance(ref, com):\n",
    "    def cosine_with_adaptive(ref, com):\n",
    "        com_mean = np.mean(com)\n",
    "        com_cov = np.cov(com.T)\n",
    "        print(com_cov)\n",
    "        com_sqrt_cov = np.sqrt(com_cov)\n",
    "        print(com_sqrt_cov)\n",
    "        score = (np.dot((ref - com_mean).T,(com - com_mean)))/(norm(np.dot(com_sqrt_cov, ref))*norm(np.dot(com_sqrt_cov, com)))\n",
    "        return score\n",
    "    \n",
    "    ref = ref.cpu().numpy()\n",
    "    com = com.cpu().numpy()\n",
    "    return np.mean(abs((cosine_with_adaptive(ref, com) + cosine_with_adaptive(com, ref))/2))\n",
    "from scipy import spatial\n",
    "\n",
    "def cosine_sim_ver2(ref, com):\n",
    "#     ref = ref.cpu().numpy()\n",
    "#     com = com.cpu().numpy()\n",
    "    distance = torch.nn.PairwiseDistance()\n",
    "    result = 1 - distance(ref, com)\n",
    "    return result"
   ]
  },
  {
   "cell_type": "code",
   "execution_count": null,
   "id": "a6b95fac",
   "metadata": {},
   "outputs": [],
   "source": [
    "ref = torch.Tensor([[1.], [0.], [-1.]])\n",
    "com = torch.Tensor([[-1.], [-1.], [1.]])\n",
    "\n",
    "ref, com, cosine_sim_advance(ref, com), cosine_simialrity(ref, com), cosine_sim_ver2(ref, com)\n"
   ]
  }
 ],
 "metadata": {
  "kernelspec": {
   "display_name": "Python 3",
   "language": "python",
   "name": "python3"
  },
  "language_info": {
   "codemirror_mode": {
    "name": "ipython",
    "version": 3
   },
   "file_extension": ".py",
   "mimetype": "text/x-python",
   "name": "python",
   "nbconvert_exporter": "python",
   "pygments_lexer": "ipython3",
   "version": "3.8.8"
  }
 },
 "nbformat": 4,
 "nbformat_minor": 5
}
