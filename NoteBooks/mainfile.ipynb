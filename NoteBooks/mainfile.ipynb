{
 "cells": [
  {
   "cell_type": "code",
   "execution_count": null,
   "id": "5494a1d2",
   "metadata": {},
   "outputs": [],
   "source": [
    "!nvidia-smi"
   ]
  },
  {
   "cell_type": "code",
   "execution_count": null,
   "id": "6f9e54cc",
   "metadata": {},
   "outputs": [],
   "source": [
    "%%javascript\n",
    "\n",
    "window.scroll_flag = true\n",
    "window.scroll_exit = false\n",
    "window.scroll_delay = 100\n",
    "\n",
    "$(\".output_scroll\").each(function() {\n",
    "    $(this)[0].scrollTop = $(this)[0].scrollHeight;\n",
    "});\n",
    "\n",
    "function callScrollToBottom() {\n",
    "    setTimeout(scrollToBottom, window.scroll_delay);\n",
    "}\n",
    "\n",
    "function scrollToBottom() {\n",
    "    if (window.scroll_exit) {\n",
    "        return;\n",
    "    }\n",
    "    if (!window.scroll_flag) {\n",
    "        callScrollToBottom();\n",
    "        return;\n",
    "    };\n",
    "    \n",
    "    $(\".output_scroll\").each(function() {\n",
    "        if (!$(this).attr('scroll_checkbox')){\n",
    "            window.scroll_flag = true;\n",
    "            $(this).attr('scroll_checkbox',true);\n",
    "            var div = document.createElement('div');\n",
    "            var checkbox = document.createElement('input');\n",
    "            checkbox.type = \"checkbox\";\n",
    "            checkbox.onclick = function(){window.scroll_flag = checkbox.checked}\n",
    "            checkbox.checked = \"checked\"\n",
    "            div.append(\"Auto-Scroll-To-Bottom: \");\n",
    "            div.append(checkbox);\n",
    "            $(this).parent().before(div);\n",
    "        }\n",
    "        \n",
    "        $(this)[0].scrollTop = $(this)[0].scrollHeight;\n",
    "    });\n",
    "    callScrollToBottom();\n",
    "}\n",
    "scrollToBottom();"
   ]
  },
  {
   "cell_type": "code",
   "execution_count": null,
   "id": "838dcc3e",
   "metadata": {},
   "outputs": [],
   "source": [
    "# !python3 -m pip install packages/ipywidgets-7.6.5.tar.gz -f ./ --no-index --no-deps"
   ]
  },
  {
   "cell_type": "code",
   "execution_count": null,
   "id": "b8cd4c84",
   "metadata": {},
   "outputs": [],
   "source": [
    "# install dependencies uploaded in packages folder\n",
    "# !python3 -m pip install packages/ipywidgets-7.6.5.tar.gz\n",
    "import subprocess\n",
    "import glob\n",
    "import os\n",
    "from tqdm import tqdm\n",
    "package_files = glob.glob(os.path.join('packages', '*.whl')) + glob.glob(os.path.join('packages', '*.tar.gz'))\n",
    "# print('Installing:', package_files)\n",
    "for f in tqdm(package_files, desc=\"Installing packages...\"):\n",
    "    subprocess.call(f\"pip install {f} -f ./ --no-index --no-deps | tqdm\", shell=True)"
   ]
  },
  {
   "cell_type": "code",
   "execution_count": null,
   "id": "04a4dc2a",
   "metadata": {},
   "outputs": [],
   "source": [
    "# !pip list"
   ]
  },
  {
   "cell_type": "code",
   "execution_count": null,
   "id": "840ac5e4",
   "metadata": {},
   "outputs": [],
   "source": [
    "%cd mainfile"
   ]
  },
  {
   "cell_type": "code",
   "execution_count": null,
   "id": "1a3f31d1",
   "metadata": {},
   "outputs": [],
   "source": [
    "%pwd"
   ]
  },
  {
   "cell_type": "code",
   "execution_count": null,
   "id": "3dcdc138",
   "metadata": {},
   "outputs": [],
   "source": [
    "!python dataprep.py --generate --split_ratio 0.2"
   ]
  },
  {
   "cell_type": "markdown",
   "id": "ffdd8273",
   "metadata": {},
   "source": [
    "# Training"
   ]
  },
  {
   "cell_type": "code",
   "execution_count": null,
   "id": "547a3535",
   "metadata": {},
   "outputs": [],
   "source": [
    "!export CUDA_VISIBLE_DEVICES=5"
   ]
  },
  {
   "cell_type": "code",
   "execution_count": null,
   "id": "7a28d7f5",
   "metadata": {},
   "outputs": [],
   "source": [
    "import torch\n",
    "x = torch.randn(100,128).to(device=\"cuda:5\")\n",
    "sim_mat = torch.matmul(x, x.transpose(0, 1))\n",
    "x.get_device()"
   ]
  },
  {
   "cell_type": "markdown",
   "id": "67d5c2d2",
   "metadata": {},
   "source": [
    "### Phase 1 classifier"
   ]
  },
  {
   "cell_type": "code",
   "execution_count": null,
   "id": "de46ada6",
   "metadata": {
    "scrolled": true
   },
   "outputs": [],
   "source": [
    "!python main.py --do_train --augment \\\n",
    "                --train_list dataset/train.txt \\\n",
    "                --test_list dataset/val.txt \\\n",
    "                --model ResNetSE34V2 \\\n",
    "                --max_epoch 200 \\\n",
    "                --batch_size 128 \\\n",
    "                --nDataLoaderThread 2 \\\n",
    "                --criterion amsoftmax \\\n",
    "                --n_mels 64 \\\n",
    "                --margin 0.2\\\n",
    "                --scale 30\\\n",
    "                --nPerSpeaker 1 \\\n",
    "                --early_stop \\\n",
    "                --es_patience 30 \\\n",
    "                --device \"cuda:1\" \\\n",
    "                --initial_model exp/ResNetSE34V2/model/best_state_d2010_8686_percent.model"
   ]
  },
  {
   "cell_type": "markdown",
   "id": "80562706",
   "metadata": {},
   "source": [
    "### Phase 2 metric loss"
   ]
  },
  {
   "cell_type": "code",
   "execution_count": null,
   "id": "f7d0ee6c",
   "metadata": {
    "scrolled": true
   },
   "outputs": [],
   "source": [
    "!python main.py --do_train --augment \\\n",
    "                --train_list dataset/train.txt \\\n",
    "                --test_list dataset/val.txt \\\n",
    "                --model ResNetSE34V2 \\\n",
    "                --max_epoch 500 \\\n",
    "                --batch_size 32 \\\n",
    "                --nDataLoaderThread 2 \\\n",
    "                --criterion amsoftmaxproto \\\n",
    "                --margin 0.1\\\n",
    "                --scale 30\\\n",
    "                --nPerSpeaker 2 \\\n",
    "                --early_stop \\\n",
    "                --es_patience 40 \\\n",
    "                --initial_model exp/ResNetSE34V2/model/best_state_d2010_8686_percent.model \\\n",
    "                --device \"cuda:1\" \n",
    "#                 --n_mels 80 "
   ]
  },
  {
   "cell_type": "markdown",
   "id": "203af0e7",
   "metadata": {},
   "source": [
    "# Inference"
   ]
  },
  {
   "cell_type": "code",
   "execution_count": null,
   "id": "0d52e532",
   "metadata": {},
   "outputs": [],
   "source": [
    "!python main.py --do_infer --prepare \\\n",
    "                --device \"cuda:1\" \\\n",
    "                --model ResNetSE34V2 \\\n",
    "                --eval_frames 100 \\\n",
    "                --test_list dataset/val.txt \\\n",
    "                --cohorts_path checkpoints/cohorts_resnet34V2.npy \\\n",
    "#                 --initial_model_infer checkpoint/final_500.model"
   ]
  },
  {
   "cell_type": "code",
   "execution_count": null,
   "id": "9de266bb",
   "metadata": {},
   "outputs": [],
   "source": [
    "!python main.py --do_infer --eval \\\n",
    "                --device \"cuda:1\"\\\n",
    "                --model ResNetSE34V2 \\\n",
    "                --test_list dataset/val.txt \\\n",
    "                --eval_frames 100 \\\n",
    "                --cohorts_path checkpoints/cohorts_resnet34V2.npy \\\n",
    "                --initial_model_infer exp/ResNetSE34V2/model/best_state.model \\\n",
    "                --scoring_mode cosine"
   ]
  },
  {
   "cell_type": "code",
   "execution_count": null,
   "id": "b794fe62",
   "metadata": {},
   "outputs": [],
   "source": [
    "!python main.py --do_infer --test \\\n",
    "                --device \"cuda:1\" \\\n",
    "                --model ResNetSE34V2 \\\n",
    "                --eval_frames 100 \\\n",
    "                --cohorts_path checkpoints/cohorts_resnet34V2.npy \\\n",
    "                --test_threshold 0.3609619736671448 \\\n",
    "                --initial_model_infer exp/ResNetSE34V2/model/best_state.model \\\n",
    "                --scoring_mode cosine"
   ]
  },
  {
   "cell_type": "code",
   "execution_count": null,
   "id": "87c8a32e",
   "metadata": {},
   "outputs": [],
   "source": [
    "import csv\n",
    "#check results\n",
    "def check_result(path):\n",
    "    ref = \"exp/data_truth.txt\"\n",
    "    com = path\n",
    "    \n",
    "    ref_data = {}\n",
    "    com_data = {}\n",
    "    \n",
    "\n",
    "    with open(ref, newline='') as rf:\n",
    "        spamreader = csv.reader(rf, delimiter=' ')\n",
    "        for row in tqdm(spamreader):\n",
    "            key = f\"{row[1]}/{row[-1]}\"\n",
    "            ref_data[key] = row[0]\n",
    "            \n",
    "    with open(com, newline='') as rf:\n",
    "        spamreader = csv.reader(rf, delimiter=',')\n",
    "        next(spamreader, None)\n",
    "        for row in tqdm(spamreader):\n",
    "            key = f\"{row[0]}/{row[1]}\"\n",
    "            com_data[key] = row[2]\n",
    "            \n",
    "    assert len(ref_data)==len(com_data) or len(ref_data)==(len(com_data) + 1)\n",
    "    count = 0\n",
    "    for k, v in com_data.items():\n",
    "        if ref_data[k] == v:\n",
    "            count += 1\n",
    "    \n",
    "    print(\"Precision:\", count*100/len(ref_data))\n",
    "\n",
    "check_result(\"exp/ResNetSE34V2/result/submission_list_test.csv\")\n",
    "    "
   ]
  },
  {
   "cell_type": "markdown",
   "id": "c6c327b2",
   "metadata": {},
   "source": [
    "## run deploy"
   ]
  },
  {
   "cell_type": "code",
   "execution_count": null,
   "id": "1df8783b",
   "metadata": {},
   "outputs": [],
   "source": [
    "!python server_test.py"
   ]
  },
  {
   "cell_type": "code",
   "execution_count": null,
   "id": "fa468bcd",
   "metadata": {},
   "outputs": [],
   "source": [
    "len(glob.glob(\"dataset/wavs/*/*.wav\")) *0.8"
   ]
  },
  {
   "cell_type": "code",
   "execution_count": null,
   "id": "70253414",
   "metadata": {},
   "outputs": [],
   "source": [
    "with open('dataset/train.txt', 'r') as f:\n",
    "    print(len(f.readlines()))"
   ]
  }
 ],
 "metadata": {
  "kernelspec": {
   "display_name": "Python 3",
   "language": "python",
   "name": "python3"
  },
  "language_info": {
   "codemirror_mode": {
    "name": "ipython",
    "version": 3
   },
   "file_extension": ".py",
   "mimetype": "text/x-python",
   "name": "python",
   "nbconvert_exporter": "python",
   "pygments_lexer": "ipython3",
   "version": "3.8.8"
  }
 },
 "nbformat": 4,
 "nbformat_minor": 5
}
