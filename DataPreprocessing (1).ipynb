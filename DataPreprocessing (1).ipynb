{
 "cells": [
  {
   "cell_type": "code",
   "execution_count": 12,
   "id": "3797abe1",
   "metadata": {},
   "outputs": [],
   "source": [
    "import time\n",
    "from pathlib import Path\n",
    "import glob\n",
    "import os\n",
    "import numpy as np\n",
    "from tqdm import tqdm\n",
    "import itertools\n",
    "import csv\n",
    "import matplotlib.pyplot as plt\n",
    "from scipy.io import wavfile\n",
    "import librosa\n",
    "import IPython.display as ipd\n",
    "from IPython.display import clear_output"
   ]
  },
  {
   "cell_type": "code",
   "execution_count": 2,
   "id": "bd305c68",
   "metadata": {},
   "outputs": [],
   "source": [
    "def plot_spec(filepath):\n",
    "    samplingFrequency, signalData = wavfile.read(filepath)\n",
    "    \n",
    "    # Plot the signal read from wav file\n",
    "    plt.subplot(211)\n",
    "\n",
    "    plt.title('Spectrogram of a wav file')\n",
    "\n",
    "    plt.plot(signalData)\n",
    "    plt.xlabel('Sample')\n",
    "    plt.ylabel('Amplitude')\n",
    "\n",
    "    plt.subplot(212)\n",
    "    plt.specgram(signalData,Fs=samplingFrequency,NFFT=512)\n",
    "    plt.xlabel('Time')\n",
    "    plt.ylabel('Frequency')\n",
    "    \n",
    "    plt.show()"
   ]
  },
  {
   "cell_type": "code",
   "execution_count": 3,
   "id": "67fb05de",
   "metadata": {
    "scrolled": true
   },
   "outputs": [],
   "source": [
    "folder = glob.glob('dataset/wavs/*')"
   ]
  },
  {
   "cell_type": "markdown",
   "id": "b7907b13",
   "metadata": {},
   "source": [
    "Check all dataset"
   ]
  },
  {
   "cell_type": "code",
   "execution_count": 99,
   "id": "6d50b328",
   "metadata": {},
   "outputs": [
    {
     "name": "stdout",
     "output_type": "stream",
     "text": [
      "dataset/wavs/99-F-40 id: 399 count: 10491\n"
     ]
    }
   ],
   "source": [
    "nfiles = [len(os.listdir(x)) for x in glob.glob(f'dataset/wavs/*')]\n",
    "start_id = 377\n",
    "\n",
    "for index in range(start_id, 400):\n",
    "    audio_in_folder = [str(Path(x)) for x in glob.glob(f'dataset/wavs/{folder[index]}/*.wav')]\n",
    "    print(folder[index], 'id:', index, 'count:', sum(nfiles[:index]))\n",
    "    for i, f in enumerate(audio_in_folder):\n",
    "        path  = str(Path(f))\n",
    "        print(f\"[{i + 1}/{len(audio_in_folder)}] {path}\")\n",
    "\n",
    "        audio = ipd.Audio(path, autoplay=True) \n",
    "        ipd.display(audio)\n",
    "\n",
    "        duration = librosa.get_duration(filename=path)\n",
    "        time.sleep(duration + 0.5)\n",
    "    time.sleep(1.0)\n",
    "    clear_output(wait=True)"
   ]
  },
  {
   "cell_type": "markdown",
   "id": "c0ec57cc",
   "metadata": {},
   "source": [
    "Check each folder"
   ]
  },
  {
   "cell_type": "code",
   "execution_count": 154,
   "id": "a1827a6d",
   "metadata": {
    "scrolled": true
   },
   "outputs": [
    {
     "name": "stdout",
     "output_type": "stream",
     "text": [
      "[1/23] dataset/wavs/719-F-29/719-10.wav 3.143375\n",
      "\n",
      "[2/23] dataset/wavs/719-F-29/719-11.wav 1.6465\n",
      "\n",
      "[3/23] dataset/wavs/719-F-29/719-12.wav 10.29825\n",
      "\n",
      "[4/23] dataset/wavs/719-F-29/719-13.wav 7.753625\n",
      "\n",
      "[5/23] dataset/wavs/719-F-29/719-14.wav 6.5860625\n",
      "\n",
      "[6/23] dataset/wavs/719-F-29/719-15.wav 10.2683125\n",
      "\n",
      "[7/23] dataset/wavs/719-F-29/719-16.wav 1.3471875\n",
      "\n",
      "[8/23] dataset/wavs/719-F-29/719-17.wav 1.3471875\n",
      "\n",
      "[9/23] dataset/wavs/719-F-29/719-18.wav 3.5325625\n",
      "\n",
      "[10/23] dataset/wavs/719-F-29/719-19.wav 6.226875\n",
      "\n",
      "[11/23] dataset/wavs/719-F-29/719-2.wav 5.1790625\n",
      "\n",
      "[12/23] dataset/wavs/719-F-29/719-20.wav 11.1365\n",
      "\n",
      "[13/23] dataset/wavs/719-F-29/719-3.wav 4.9994375\n",
      "\n",
      "[14/23] dataset/wavs/719-F-29/719-4.wav 6.4065\n",
      "\n",
      "[15/23] dataset/wavs/719-F-29/719-5.wav 6.7656875\n",
      "\n",
      "[16/23] dataset/wavs/719-F-29/719-6.wav 2.544625\n",
      "\n",
      "[17/23] dataset/wavs/719-F-29/719-7.wav 2.844\n",
      "\n",
      "[18/23] dataset/wavs/719-F-29/719-8.wav 4.8796875\n",
      "\n",
      "[19/23] dataset/wavs/719-F-29/719-9.wav 3.1733125\n",
      "\n",
      "[20/23] dataset/wavs/719-F-29/719.wav 4.101375\n",
      "\n",
      "[21/23] dataset/wavs/719-F-29/719-20_vad_0.wav 11.04\n",
      "\n",
      "[22/23] dataset/wavs/719-F-29/719-12_vad_0.wav 6.63\n",
      "\n",
      "[23/23] dataset/wavs/719-F-29/719-12_vad_1.wav 3.15\n",
      "\n"
     ]
    }
   ],
   "source": [
    "audio_in_folder = glob.glob(f'dataset/wavs/734-M-41/*.wav')\n",
    "for i, f in enumerate(audio_in_folder):\n",
    "    path  = str(Path(f))\n",
    "    print(f\"[{i + 1}/{len(audio_in_folder)}] {path}\", end=' ')\n",
    "    \n",
    "    audio = ipd.Audio(path, autoplay=True) \n",
    "    ipd.display(audio)\n",
    "    \n",
    "    duration = librosa.get_duration(filename=path)\n",
    "#     print(duration, end='\\n\\n')\n",
    "    time.sleep(duration + 0.5)"
   ]
  },
  {
   "cell_type": "markdown",
   "id": "6e52d2cc",
   "metadata": {},
   "source": [
    "Check each files"
   ]
  },
  {
   "cell_type": "code",
   "execution_count": null,
   "id": "7bd77894",
   "metadata": {},
   "outputs": [],
   "source": [
    "path = f\"dataset/wavs/719-F-29/719-20.wav\"\n",
    "plot_spec(path)\n",
    "ipd.Audio(path, autoplay=True)"
   ]
  },
  {
   "cell_type": "markdown",
   "id": "58bc2f66",
   "metadata": {},
   "source": [
    "check folder and print name file path with theirduration"
   ]
  },
  {
   "cell_type": "code",
   "execution_count": 236,
   "id": "9b2aed16",
   "metadata": {
    "scrolled": true
   },
   "outputs": [
    {
     "name": "stdout",
     "output_type": "stream",
     "text": [
      "[1/54] dataset/wavs/424-M-28/424-11.wav 1.9189375\n",
      "\n",
      "[2/54] dataset/wavs/424-M-28/424-12.wav 0.7689375\n",
      "\n",
      "[3/54] dataset/wavs/424-M-28/424-14.wav 1.8924375\n",
      "\n",
      "[4/54] dataset/wavs/424-M-28/424-15.wav 2.5155\n",
      "\n",
      "[5/54] dataset/wavs/424-M-28/424-16.wav 0.73575\n",
      "\n",
      "[6/54] dataset/wavs/424-M-28/424-17.wav 3.6456875\n",
      "\n",
      "[7/54] dataset/wavs/424-M-28/424-18.wav 3.088875\n",
      "\n",
      "[8/54] dataset/wavs/424-M-28/424-19.wav 2.611625\n",
      "\n",
      "[9/54] dataset/wavs/424-M-28/424-2.wav 0.881625\n",
      "\n",
      "[10/54] dataset/wavs/424-M-28/424-20.wav 4.2953125\n",
      "\n",
      "[11/54] dataset/wavs/424-M-28/424-21.wav 1.3256875\n",
      "\n",
      "[12/54] dataset/wavs/424-M-28/424-22.wav 1.86925\n",
      "\n",
      "[13/54] dataset/wavs/424-M-28/424-23.wav 1.3655\n",
      "\n",
      "[14/54] dataset/wavs/424-M-28/424-25.wav 2.094625\n",
      "\n",
      "[15/54] dataset/wavs/424-M-28/424-29.wav 2.3000625\n",
      "\n",
      "[16/54] dataset/wavs/424-M-28/424-3.wav 4.570375\n",
      "\n",
      "[17/54] dataset/wavs/424-M-28/424-30.wav 3.3474375\n",
      "\n",
      "[18/54] dataset/wavs/424-M-28/424-31.wav 5.4420625\n",
      "\n",
      "[19/54] dataset/wavs/424-M-28/424-32.wav 2.1808125\n",
      "\n",
      "[20/54] dataset/wavs/424-M-28/424-33.wav 2.1940625\n",
      "\n",
      "[21/54] dataset/wavs/424-M-28/424-34.wav 5.7469375\n",
      "\n",
      "[22/54] dataset/wavs/424-M-28/424-35.wav 1.0009375\n",
      "\n",
      "[23/54] dataset/wavs/424-M-28/424-36.wav 0.7059375\n",
      "\n",
      "[24/54] dataset/wavs/424-M-28/424-37.wav 1.849375\n",
      "\n",
      "[25/54] dataset/wavs/424-M-28/424-38.wav 0.9015\n",
      "\n",
      "[26/54] dataset/wavs/424-M-28/424-39.wav 3.3275\n",
      "\n",
      "[27/54] dataset/wavs/424-M-28/424-40.wav 2.624875\n",
      "\n",
      "[28/54] dataset/wavs/424-M-28/424-41.wav 1.5643125\n",
      "\n",
      "[29/54] dataset/wavs/424-M-28/424-44.wav 2.0018125\n",
      "\n",
      "[30/54] dataset/wavs/424-M-28/424-45.wav 0.94125\n",
      "\n",
      "[31/54] dataset/wavs/424-M-28/424-46.wav 2.3465\n",
      "\n",
      "[32/54] dataset/wavs/424-M-28/424-47.wav 1.2461875\n",
      "\n",
      "[33/54] dataset/wavs/424-M-28/424-48.wav 2.6779375\n",
      "\n",
      "[34/54] dataset/wavs/424-M-28/424-49.wav 6.157875\n",
      "\n",
      "[35/54] dataset/wavs/424-M-28/424-5.wav 0.818625\n",
      "\n",
      "[36/54] dataset/wavs/424-M-28/424-50.wav 1.2660625\n",
      "\n",
      "[37/54] dataset/wavs/424-M-28/424-54.wav 2.107875\n",
      "\n",
      "[38/54] dataset/wavs/424-M-28/424-55.wav 3.4468125\n",
      "\n",
      "[39/54] dataset/wavs/424-M-28/424-56.wav 5.9789375\n",
      "\n",
      "[40/54] dataset/wavs/424-M-28/424-57.wav 2.160875\n",
      "\n",
      "[41/54] dataset/wavs/424-M-28/424-58.wav 1.4980625\n",
      "\n",
      "[42/54] dataset/wavs/424-M-28/424-59.wav 3.1154375\n",
      "\n",
      "[43/54] dataset/wavs/424-M-28/424-60.wav 6.4296875\n",
      "\n",
      "[44/54] dataset/wavs/424-M-28/424-61.wav 3.566125\n",
      "\n",
      "[45/54] dataset/wavs/424-M-28/424-62.wav 7.066\n",
      "\n",
      "[46/54] dataset/wavs/424-M-28/424-63.wav 1.5245625\n",
      "\n",
      "[47/54] dataset/wavs/424-M-28/424-64.wav 1.2991875\n",
      "\n",
      "[48/54] dataset/wavs/424-M-28/424-65.wav 2.0018125\n",
      "\n",
      "[49/54] dataset/wavs/424-M-28/424-66.wav 4.3815\n",
      "\n",
      "[50/54] dataset/wavs/424-M-28/424-67.wav 9.7770625\n",
      "\n",
      "[51/54] dataset/wavs/424-M-28/424-68.wav 3.5794375\n",
      "\n",
      "[52/54] dataset/wavs/424-M-28/424-69.wav 3.009375\n",
      "\n",
      "[53/54] dataset/wavs/424-M-28/424-8.wav 0.676125\n",
      "\n",
      "[54/54] dataset/wavs/424-M-28/424-9.wav 2.2801875\n",
      "\n"
     ]
    }
   ],
   "source": [
    "audio_in_folder = glob.glob(f'dataset/wavs/424-M-28/*.wav')\n",
    "# dump = []\n",
    "for i, f in enumerate(audio_in_folder):\n",
    "    path  = str(Path(f))\n",
    "    print(f\"[{i + 1}/{len(audio_in_folder)}] {path}\", end=' ')\n",
    "    duration = librosa.get_duration(filename=path)\n",
    "    print(duration, end='\\n\\n')"
   ]
  },
  {
   "cell_type": "markdown",
   "id": "252278c7",
   "metadata": {},
   "source": [
    "Perform vad on long file(>10s of duration)"
   ]
  },
  {
   "cell_type": "code",
   "execution_count": 211,
   "id": "d0ed2dd6",
   "metadata": {},
   "outputs": [
    {
     "name": "stdout",
     "output_type": "stream",
     "text": [
      "0\n"
     ]
    }
   ],
   "source": [
    "from utils import *\n",
    "path = f\"dataset/wavs/726-M-34/726-9.wav\"\n",
    "write = True\n",
    "segments = VAD(win_length=200).detect(path, write=write, show=False)\n",
    "print(len(segments))"
   ]
  },
  {
   "cell_type": "markdown",
   "id": "db63abd8",
   "metadata": {},
   "source": [
    "## Delete noise"
   ]
  },
  {
   "cell_type": "markdown",
   "id": "efcde1eb",
   "metadata": {},
   "source": [
    "Get n-thresh files which have shortest length and put to dump to remove later, n is number of files in folder, thresh take 35"
   ]
  },
  {
   "cell_type": "code",
   "execution_count": 362,
   "id": "28903587",
   "metadata": {},
   "outputs": [
    {
     "name": "stdout",
     "output_type": "stream",
     "text": [
      "47\n"
     ]
    },
    {
     "data": {
      "text/plain": [
       "['dataset/wavs/438-M-40/438-24.wav',\n",
       " 'dataset/wavs/438-M-40/438-25.wav',\n",
       " 'dataset/wavs/438-M-40/438-19.wav',\n",
       " 'dataset/wavs/438-M-40/438-35.wav',\n",
       " 'dataset/wavs/438-M-40/438-23.wav',\n",
       " 'dataset/wavs/438-M-40/438-21.wav',\n",
       " 'dataset/wavs/438-M-40/438-39.wav',\n",
       " 'dataset/wavs/438-M-40/438-20.wav',\n",
       " 'dataset/wavs/438-M-40/438-34.wav',\n",
       " 'dataset/wavs/438-M-40/438-26.wav',\n",
       " 'dataset/wavs/438-M-40/438-47.wav',\n",
       " 'dataset/wavs/438-M-40/438-42.wav']"
      ]
     },
     "execution_count": 362,
     "metadata": {},
     "output_type": "execute_result"
    }
   ],
   "source": [
    "audio_in_folder = glob.glob(f'dataset/wavs/438-M-40/*.wav')\n",
    "gap = 12\n",
    "\n",
    "dump = {}\n",
    "print(len(audio_in_folder))\n",
    "for i, f in enumerate(audio_in_folder):\n",
    "    path  = str(Path(f))\n",
    "    duration = librosa.get_duration(filename=path)\n",
    "    dump[path] = duration\n",
    "dump = {k: v for k, v in sorted(dump.items(), key=lambda item: item[1])}\n",
    "\n",
    "list(dump.keys())[:gap]"
   ]
  },
  {
   "cell_type": "code",
   "execution_count": 364,
   "id": "f4a64b63",
   "metadata": {
    "scrolled": true
   },
   "outputs": [
    {
     "name": "stderr",
     "output_type": "stream",
     "text": [
      "100%|██████████| 12/12 [00:00<00:00, 14803.43it/s]\n"
     ]
    }
   ],
   "source": [
    "delete_files = list(dump.keys())[:gap]\n",
    "for f in tqdm(delete_files):\n",
    "#     path = os.path.join('dataset/wavs/' , f)\n",
    "    if os.path.exists(f):\n",
    "        print(\"delete\", f)\n",
    "        os.remove(f)"
   ]
  },
  {
   "cell_type": "markdown",
   "id": "9f3b4d43",
   "metadata": {},
   "source": [
    "## Plot graphs"
   ]
  },
  {
   "cell_type": "code",
   "execution_count": 366,
   "id": "d6ac77d3",
   "metadata": {},
   "outputs": [],
   "source": [
    "origin = \"dataset/wavs/\"\n",
    "filenames = glob.glob(f\"{origin}/*\")\n",
    "# filenames"
   ]
  },
  {
   "cell_type": "code",
   "execution_count": 367,
   "id": "f4a2cf06",
   "metadata": {},
   "outputs": [
    {
     "data": {
      "image/png": "[encoded data removed]",
      "text/plain": [
       "<Figure size 1728x576 with 1 Axes>"
      ]
     },
     "metadata": {
      "needs_background": "light"
     },
     "output_type": "display_data"
    }
   ],
   "source": [
    "# so luong files moi nguoi\n",
    "no_of_files = []\n",
    "for f in filenames:\n",
    "    if len(os.listdir(f)) == 0:\n",
    "        print(f)\n",
    "    no_of_files.append(len(os.listdir(f)))\n",
    "plt.figure(figsize=(24, 8))\n",
    "plt.bar(filenames, no_of_files), plt.ylabel('number of files'), plt.xticks([])\n",
    "plt.tight_layout()"
   ]
  },
  {
   "cell_type": "code",
   "execution_count": 368,
   "id": "57a8d5ca",
   "metadata": {},
   "outputs": [
    {
     "data": {
      "text/plain": [
       "(35.0, 'dataset/wavs/272-M-26', 'dataset/wavs/272-M-26', 14000, 35, 35)"
      ]
     },
     "execution_count": 368,
     "metadata": {},
     "output_type": "execute_result"
    }
   ],
   "source": [
    "np.mean(no_of_files), filenames[np.argmax(no_of_files)], filenames[np.argmin(no_of_files)], sum(no_of_files), max(no_of_files), min(no_of_files)"
   ]
  },
  {
   "cell_type": "code",
   "execution_count": 369,
   "id": "d118aaf6",
   "metadata": {},
   "outputs": [
    {
     "data": {
      "text/plain": [
       "0"
      ]
     },
     "execution_count": 369,
     "metadata": {},
     "output_type": "execute_result"
    }
   ],
   "source": [
    "vad_list = []\n",
    "vad_list = list(filter(lambda x: len(os.listdir(x)) < 0.9 * np.mean(no_of_files), filenames))\n",
    "len(vad_list)"
   ]
  },
  {
   "cell_type": "code",
   "execution_count": 370,
   "id": "7f93b675",
   "metadata": {},
   "outputs": [
    {
     "name": "stderr",
     "output_type": "stream",
     "text": [
      "100%|██████████| 400/400 [00:02<00:00, 172.67it/s]\n"
     ]
    },
    {
     "data": {
      "image/png": "[encoded data removed]",
      "text/plain": [
       "<Figure size 1728x576 with 1 Axes>"
      ]
     },
     "metadata": {
      "needs_background": "light"
     },
     "output_type": "display_data"
    }
   ],
   "source": [
    "# thoi gian audio cua moi nguoi\n",
    "import wave\n",
    "import librosa\n",
    "import contextlib\n",
    "\n",
    "def get_duration(fn):\n",
    "    length = 0\n",
    "    for audio in os.listdir(fn):\n",
    "        with contextlib.closing(wave.open(os.path.join(fn, audio),'r')) as f:\n",
    "            frames = f.getnframes()\n",
    "            rate = f.getframerate()\n",
    "            duration_each = frames / float(rate)\n",
    "        length += duration_each\n",
    "    return length\n",
    "    \n",
    "\n",
    "durations = []\n",
    "for fn in tqdm(filenames):\n",
    "    length = get_duration(fn)\n",
    "    durations.append(length)\n",
    "plt.figure(figsize=(24, 8))\n",
    "plt.bar(filenames, durations), plt.ylabel('durations'), plt.xticks([]), plt.tight_layout()\n",
    "plt.show()"
   ]
  },
  {
   "cell_type": "code",
   "execution_count": 371,
   "id": "724daac4",
   "metadata": {},
   "outputs": [
    {
     "data": {
      "text/plain": [
       "(115.79967468749999,\n",
       " 18,\n",
       " 46319.86987500003,\n",
       " 199.45956249999975,\n",
       " 52.617312500000004)"
      ]
     },
     "execution_count": 371,
     "metadata": {},
     "output_type": "execute_result"
    }
   ],
   "source": [
    "np.mean(durations), np.argmax(durations), sum(durations), max(durations), min(durations)"
   ]
  },
  {
   "cell_type": "code",
   "execution_count": 372,
   "id": "6a7a66c9",
   "metadata": {},
   "outputs": [
    {
     "data": {
      "text/plain": [
       "37"
      ]
     },
     "execution_count": 372,
     "metadata": {},
     "output_type": "execute_result"
    }
   ],
   "source": [
    "vad_list2 = []\n",
    "vad_list2 = list(filter(lambda x: get_duration(x) < 0.75 * np.mean(durations), filenames))\n",
    "\n",
    "vad_list += vad_list2\n",
    "vad_list = list(set(vad_list))\n",
    "len(vad_list)"
   ]
  },
  {
   "cell_type": "code",
   "execution_count": 130,
   "id": "ad1d2368",
   "metadata": {},
   "outputs": [],
   "source": [
    "# vad for vad list\n",
    "from utils import *\n",
    "def vad_on_vad_list(vad_list):\n",
    "    vad_engine = VAD(frame_duration=30, win_length=180)\n",
    "\n",
    "    data_paths = []\n",
    "    for fdir in tqdm(vad_list):\n",
    "        data_paths.extend(\n",
    "            glob.glob(f'{fdir}/*.wav'))\n",
    "\n",
    "    # filters audiopaths\n",
    "    raw_paths = list(\n",
    "        filter(lambda x: 'augment' not in str(x) and 'vad' not in str(x), data_paths))\n",
    "\n",
    "    for audio_path in tqdm(raw_paths, desc=\"Vad performing\"):\n",
    "        vad_engine.detect(audio_path, write=True, show=False, save_dir=\"dataset/wavs/\")\n",
    "        \n",
    "    print(\"Done!\")\n",
    "#     print(f\"[INFO]: {len(glob.glob(f'{raw_data_dir}/*/*.wav'))} -> {len(glob.glob(f'{save_dir}/*/*.wav'))}\")"
   ]
  },
  {
   "cell_type": "code",
   "execution_count": 377,
   "id": "e9e9246d",
   "metadata": {},
   "outputs": [
    {
     "data": {
      "text/plain": [
       "14000"
      ]
     },
     "execution_count": 377,
     "metadata": {},
     "output_type": "execute_result"
    }
   ],
   "source": [
    "# vad_on_vad_list(vad_list)\n",
    "len(glob.glob(\"dataset/wavs/*/*.wav\"))"
   ]
  },
  {
   "cell_type": "code",
   "execution_count": 378,
   "id": "4f172d21",
   "metadata": {},
   "outputs": [
    {
     "data": {
      "image/png": "[encoded data removed]",
      "text/plain": [
       "<Figure size 1728x576 with 1 Axes>"
      ]
     },
     "metadata": {
      "needs_background": "light"
     },
     "output_type": "display_data"
    }
   ],
   "source": [
    "# mat do thoi gian / 1 audio tren moi nguoi\n",
    "import numpy as np\n",
    "no_of_files = np.array(no_of_files)\n",
    "durations = np.array(durations)\n",
    "avg_durations = np.divide(durations, no_of_files)\n",
    "plt.figure(figsize=(24, 8))\n",
    "plt.bar(filenames, avg_durations), plt.ylabel('avg_durations'), plt.xticks([]), plt.tight_layout()\n",
    "plt.show()"
   ]
  },
  {
   "cell_type": "code",
   "execution_count": 374,
   "id": "ef2ce17c",
   "metadata": {
    "scrolled": true
   },
   "outputs": [
    {
     "data": {
      "text/plain": [
       "(3.3085621339285716,\n",
       " 18,\n",
       " 46319.86987500003,\n",
       " 5.698844642857136,\n",
       " 1.5033517857142857)"
      ]
     },
     "execution_count": 374,
     "metadata": {},
     "output_type": "execute_result"
    }
   ],
   "source": [
    "avg_durations.mean(), np.argmax(avg_durations), sum(durations), max(avg_durations), min(avg_durations)"
   ]
  },
  {
   "cell_type": "code",
   "execution_count": 20,
   "id": "4c8378b1",
   "metadata": {
    "scrolled": true
   },
   "outputs": [
    {
     "data": {
      "text/plain": [
       "('dataset/wavs_non_vad/504-F-25', 62.9223125, 1)"
      ]
     },
     "execution_count": 20,
     "metadata": {},
     "output_type": "execute_result"
    }
   ],
   "source": [
    "max_index = np.argmax(avg_durations)\n",
    "filenames[max_index], durations[max_index], no_of_files[max_index]"
   ]
  },
  {
   "cell_type": "code",
   "execution_count": 375,
   "id": "e77b0f89",
   "metadata": {},
   "outputs": [
    {
     "data": {
      "text/plain": [
       "('dataset/wavs/767-F-26', 52.617312500000004, 35)"
      ]
     },
     "execution_count": 375,
     "metadata": {},
     "output_type": "execute_result"
    }
   ],
   "source": [
    "max_index = np.argmin(avg_durations)\n",
    "filenames[max_index], durations[max_index], no_of_files[max_index]"
   ]
  },
  {
   "cell_type": "code",
   "execution_count": 376,
   "id": "23f19e07",
   "metadata": {
    "scrolled": true
   },
   "outputs": [
    {
     "name": "stdout",
     "output_type": "stream",
     "text": [
      "dataset/wavs/44-M-28 199.45956249999975 35 5.698844642857136\n",
      "dataset/wavs/504-F-25 183.21049999999985 35 5.23458571428571\n",
      "dataset/wavs/90-F-50 195.6784374999998 35 5.590812499999994\n"
     ]
    }
   ],
   "source": [
    "# long files: greater than 1.5 times of average density of durations\n",
    "avg_durations_bool = avg_durations > 1.5*avg_durations.mean()\n",
    "# np.where(avg_durations_bool == True)\n",
    "for idx in np.where(avg_durations_bool == True)[0].tolist():\n",
    "    print(filenames[int(idx)], durations[int(idx)], no_of_files[idx], avg_durations[idx], )"
   ]
  },
  {
   "cell_type": "markdown",
   "id": "f0b8ec64",
   "metadata": {},
   "source": [
    "Check the inequality of dataset and print out details, return number of files greater ans lower than threshold(35 files)"
   ]
  },
  {
   "cell_type": "code",
   "execution_count": 365,
   "id": "1f454fe4",
   "metadata": {},
   "outputs": [
    {
     "name": "stdout",
     "output_type": "stream",
     "text": [
      "Total files: 14000\n",
      "mean number of audio files each folder 35.0\n",
      "min and max of number of files: 35 35\n",
      "272-M-26\n",
      "//===================================\n",
      "Total size: 1483.434976 MB\n",
      "mean duration of audio files each folder 3.5367845916748046 MB\n",
      "min and max of duration: 1.609151840209961 6.088878631591797 MB\n",
      "//===================================\n",
      "greater than mean in number of files: 0\n",
      "lower than mean in number of files: 0\n",
      "greater than mean in duration: 119\n",
      "lower than mean in duration: 122\n",
      "//===================================\n",
      "long_large: 0\n",
      "short_small: 0\n",
      "long_small: 0\n",
      "short_large: 0\n"
     ]
    }
   ],
   "source": [
    "def check_inequality_data():\n",
    "    '''to check the inequality of dataset from wavs folder\n",
    "    '''\n",
    "    root = Path(\"dataset/wavs\")\n",
    "    audio_folder_num = {}\n",
    "    for audio_folder in root.iterdir():\n",
    "        audio_folder_num[audio_folder.name] = len(os.listdir(audio_folder))\n",
    "    mean_num = np.mean(list(audio_folder_num.values()))\n",
    "    print(\"Total files:\", sum(audio_folder_num.values()))\n",
    "    print(\"mean number of audio files each folder\", mean_num)\n",
    "    print(\"min and max of number of files:\", min(audio_folder_num.values()), max(audio_folder_num.values()))\n",
    "    print(list(audio_folder_num.keys())[np.argmin(list(audio_folder_num.values()))])\n",
    "    \n",
    "    greater_than_mean = [k for k, v in audio_folder_num.items() if v > 1.1 * mean_num]\n",
    "    lower_than_mean = [k for k, v in audio_folder_num.items() if v < 0.9 * mean_num]\n",
    "    lower_than_thresh = [k for k, v in audio_folder_num.items() if v < 35]\n",
    "    greater_than_thresh = [k for k, v in audio_folder_num.items() if v > 35]\n",
    "    \n",
    "    print('//===================================')\n",
    "    # check for the total duration of each folder\n",
    "    audio_folder_duration = {}\n",
    "    for audio_folder in root.iterdir():\n",
    "        audio_folder_duration[audio_folder.name] = sum([audio_file.stat().st_size for audio_file in audio_folder.iterdir()])\n",
    "    mean_duration = np.mean(list(audio_folder_duration.values()))\n",
    "    print(\"Total size:\", sum(audio_folder_duration.values())/1e6, \"MB\")\n",
    "    print(\"mean duration of audio files each folder\", mean_duration/(1024*1024), \"MB\")\n",
    "    print(\"min and max of duration:\", min(audio_folder_duration.values())/(1024*1024), max(audio_folder_duration.values())/(1024*1024), \"MB\")\n",
    "    \n",
    "    greater_than_mean_duration = [k for k, v in audio_folder_duration.items() if v > 1.1 * mean_duration]\n",
    "    lower_than_mean_duration = [k for k, v in audio_folder_duration.items() if v < 0.9 * mean_duration]\n",
    "\n",
    "    print('//===================================')\n",
    "\n",
    "    long_large = np.intersect1d(greater_than_mean, greater_than_mean_duration)\n",
    "    short_small = np.intersect1d(lower_than_mean, lower_than_mean_duration)\n",
    "    long_small = np.setxor1d(greater_than_mean, long_large)\n",
    "    short_large = np.setxor1d(lower_than_mean, short_small)\n",
    "\n",
    "\n",
    "    print(\"greater than mean in number of files:\", len(greater_than_mean))\n",
    "    print(\"lower than mean in number of files:\", len(lower_than_mean))\n",
    "    print(\"greater than mean in duration:\", len(greater_than_mean_duration))\n",
    "    print(\"lower than mean in duration:\", len(lower_than_mean_duration))\n",
    "    \n",
    "    print('//===================================')\n",
    "\n",
    "    print(\"long_large:\", len(long_large))\n",
    "    print(\"short_small:\", len(short_small))\n",
    "    print(\"long_small:\", len(long_small))\n",
    "    print(\"short_large:\", len(short_large))\n",
    "\n",
    "\n",
    "    with open(\"data_inequality.txt\", 'w') as f:\n",
    "        f.write(\"long_large: \\n\")\n",
    "        for line in long_large:\n",
    "            f.write(line + ' - ' + str(audio_folder_num[line]) +  ' - ' + str(audio_folder_duration[line])  + '\\n')\n",
    "\n",
    "        f.write(\"short_small: augment \\n\")\n",
    "        for line in short_small:\n",
    "            f.write(line + ' - ' + str(audio_folder_num[line]) +  ' - ' + str(audio_folder_duration[line])  + '\\n')\n",
    "\n",
    "        f.write(\"long_small: \\n\")\n",
    "        for line in long_small:\n",
    "            f.write(line + ' - ' + str(audio_folder_num[line]) +  ' - ' + str(audio_folder_duration[line])  + '\\n')\n",
    "  \n",
    "\n",
    "        f.write(\"short_large: vad \\n\")\n",
    "        for line in short_large:\n",
    "            f.write(line + ' - ' + str(audio_folder_num[line]) +  ' - ' + str(audio_folder_duration[line])  + '\\n')\n",
    "\n",
    "        f.write(\"greater than thresh:  \\n\")\n",
    "        for line in greater_than_thresh:\n",
    "            f.write(line + ' - ' + str(audio_folder_num[line] - 35) + ' / ' +  str(audio_folder_num[line]) + '\\n')\n",
    "           \n",
    "    \n",
    "    return lower_than_thresh, greater_than_thresh\n",
    "            \n",
    "add, elim = check_inequality_data()"
   ]
  },
  {
   "cell_type": "code",
   "execution_count": 360,
   "id": "d7f473b1",
   "metadata": {},
   "outputs": [
    {
     "data": {
      "text/plain": [
       "(0, 1, ['438-M-40'])"
      ]
     },
     "execution_count": 360,
     "metadata": {},
     "output_type": "execute_result"
    }
   ],
   "source": [
    "len(add), len(elim), elim"
   ]
  },
  {
   "cell_type": "markdown",
   "id": "f35d7928",
   "metadata": {},
   "source": [
    "With folder have number of files less than threshold, copy augmented files randomly from aug_wavs dataset"
   ]
  },
  {
   "cell_type": "code",
   "execution_count": 229,
   "id": "bccf556f",
   "metadata": {},
   "outputs": [
    {
     "name": "stderr",
     "output_type": "stream",
     "text": [
      "\n",
      "\n",
      "  0%|          | 0/340 [00:00<?, ?it/s]\u001b[A\u001b[A\n",
      "\n",
      " 10%|█         | 34/340 [00:00<00:00, 337.41it/s]\u001b[A\u001b[A\n",
      "\n",
      " 19%|█▉        | 66/340 [00:00<00:00, 330.74it/s]\u001b[A\u001b[A\n",
      "\n",
      " 31%|███       | 104/340 [00:00<00:00, 343.19it/s]\u001b[A\u001b[A\n",
      "\n",
      " 42%|████▏     | 143/340 [00:00<00:00, 355.66it/s]\u001b[A\u001b[A\n",
      "\n",
      " 55%|█████▌    | 187/340 [00:00<00:00, 375.84it/s]\u001b[A\u001b[A\n",
      "\n",
      " 65%|██████▍   | 220/340 [00:00<00:00, 355.15it/s]\u001b[A\u001b[A\n",
      "\n",
      " 74%|███████▍  | 253/340 [00:00<00:00, 294.91it/s]\u001b[A\u001b[A\n",
      "\n",
      " 83%|████████▎ | 282/340 [00:00<00:00, 221.81it/s]\u001b[A\u001b[A\n",
      "\n",
      " 90%|█████████ | 307/340 [00:01<00:00, 207.07it/s]\u001b[A\u001b[A\n",
      "\n",
      "100%|██████████| 340/340 [00:01<00:00, 270.66it/s]\u001b[A\u001b[A"
     ]
    },
    {
     "name": "stdout",
     "output_type": "stream",
     "text": [
      "DONE\n"
     ]
    },
    {
     "name": "stderr",
     "output_type": "stream",
     "text": [
      "\n"
     ]
    }
   ],
   "source": [
    "import random\n",
    "import shutil\n",
    "from tqdm import tqdm\n",
    "\n",
    "def add_augment_file(add, thresh=35):\n",
    "    aug_root = 'dataset/aug_wavs'\n",
    "    spk_root = 'dataset/wavs'\n",
    "    for f in tqdm(add):\n",
    "        gap = thresh - len(os.listdir(Path(spk_root, f))) \n",
    "        aug_files = glob.glob(f\"{Path(aug_root, f)}/*.wav\")\n",
    "        choices = random.sample(aug_files, gap)\n",
    "        for choice in choices:\n",
    "            src = choice\n",
    "            dst = choice.replace(str(Path(aug_root, f)), str(Path(spk_root, f)))\n",
    "#             print(src, '->', dst)\n",
    "            shutil.copy(src, dst)\n",
    "    print('DONE')\n",
    "\n",
    "add_augment_file(add)"
   ]
  }
 ],
 "metadata": {
  "kernelspec": {
   "display_name": "Python 3",
   "language": "python",
   "name": "python3"
  },
  "language_info": {
   "codemirror_mode": {
    "name": "ipython",
    "version": 3
   },
   "file_extension": ".py",
   "mimetype": "text/x-python",
   "name": "python",
   "nbconvert_exporter": "python",
   "pygments_lexer": "ipython3",
   "version": "3.8.8"
  }
 },
 "nbformat": 4,
 "nbformat_minor": 5
}
